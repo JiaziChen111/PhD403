{
 "cells": [
  {
   "cell_type": "markdown",
   "metadata": {},
   "source": [
    "# Maximum Likelihood\n",
    "Reference: SomeDerivations181007.pdf, Volatility180917.pdf\n",
    "\n",
    "## Content:\n",
    "\n",
    "* (1) [The Delta Method](#section1)\n",
    "* (2.1) [Maximizing the likelihood of a Normal](#section21)\n",
    "* (2.2) [Computing Cov($\\theta$)](#section22)\n",
    "* (3) [MA(1)](#section3)\n",
    "* (4) [GARCH(1, 1)](#section4)"
   ]
  },
  {
   "cell_type": "markdown",
   "metadata": {},
   "source": [
    "-----------------"
   ]
  },
  {
   "cell_type": "markdown",
   "metadata": {},
   "source": [
    "<a id='section1'></a>\n",
    "## (1) The Delta Method"
   ]
  },
  {
   "cell_type": "code",
   "execution_count": 1,
   "metadata": {},
   "outputs": [
    {
     "data": {
      "text/plain": [
       "1×1 Array{Float64,2}:\n",
       " 1.023618652418126"
      ]
     },
     "execution_count": 1,
     "metadata": {},
     "output_type": "execute_result"
    }
   ],
   "source": [
    "using Distributions: Normal\n",
    "using Statistics: mean, var\n",
    "using Random\n",
    "using ForwardDiff\n",
    "\n",
    "Random.seed!(123)\n",
    "\n",
    "returns = rand(Normal(0.3, 1), 10000)\n",
    "μ = mean(returns)\n",
    "σ² = var(returns, corrected=false)\n",
    "\n",
    "# Analytical Sharpe ratio standard errors\n",
    "R = μ / sqrt(σ²)\n",
    "δR = [1 / sqrt(σ²) -0.5 * μ / sqrt(σ²)^3]\n",
    "V₀ = [σ² 0 ;\n",
    "      0  2*σ²^2]\n",
    "\n",
    "sqrt(δR * V₀ * δR')"
   ]
  },
  {
   "cell_type": "code",
   "execution_count": 2,
   "metadata": {},
   "outputs": [
    {
     "data": {
      "text/plain": [
       "1.0222524150130436"
      ]
     },
     "execution_count": 2,
     "metadata": {},
     "output_type": "execute_result"
    }
   ],
   "source": [
    "# The exact ones\n",
    "sqrt(1 + 0.3^2 / 2)"
   ]
  },
  {
   "cell_type": "code",
   "execution_count": 3,
   "metadata": {},
   "outputs": [
    {
     "data": {
      "text/plain": [
       "1×1 Array{Float64,2}:\n",
       " 1.023618652418126"
      ]
     },
     "execution_count": 3,
     "metadata": {},
     "output_type": "execute_result"
    }
   ],
   "source": [
    "# Numerical gradient:\n",
    "# For an example of using ForwardDiff with a function\n",
    "# that allocates storage: see the MA(1) example\n",
    "function Rfunction(θ::Array)\n",
    "    μ = θ[1]\n",
    "    σ² = θ[2]\n",
    "\n",
    "    μ / sqrt(σ²)\n",
    "end\n",
    "\n",
    "θhat = [μ σ²]\n",
    "g = ForwardDiff.gradient(Rfunction, θhat)\n",
    "\n",
    "# Gives standard erros:\n",
    "sqrt(g * V₀ * g')"
   ]
  },
  {
   "cell_type": "markdown",
   "metadata": {},
   "source": [
    "<a id='section21'></a>\n",
    "## (2.1) Maximizing the likelihood of a Normal"
   ]
  },
  {
   "cell_type": "code",
   "execution_count": 4,
   "metadata": {},
   "outputs": [
    {
     "data": {
      "text/plain": [
       "L_T (generic function with 1 method)"
      ]
     },
     "execution_count": 4,
     "metadata": {},
     "output_type": "execute_result"
    }
   ],
   "source": [
    "using LinearAlgebra: inv, diag\n",
    "using Optim: optimize, BFGS\n",
    "using Distributions: Normal\n",
    "using Statistics: mean, var\n",
    "using Random\n",
    "using ForwardDiff\n",
    "\n",
    "Random.seed!(123)\n",
    "\n",
    "\"\"\"\n",
    "A Julia function declaration, giving the log likelihood of each observation.\n",
    "The `::` arguments are optional type declarations (in Julia, a vector\n",
    "is just an alias for a flat array).\n",
    "\n",
    "The `.` before some operators or functions means broadcast this to all elements\n",
    "of an array.\n",
    "\n",
    "x::Union{Array, Number} means L_t can compute the score at a single\n",
    "observation, or the entire data array, returning a scalar or an array\n",
    "respectively. \n",
    "\"\"\"\n",
    "function L_t(θ::Array, x::Union{Array, Number})\n",
    "    μ = θ[1]\n",
    "    σ² = θ[2]\n",
    "    if σ² <= 0 return Inf end\n",
    "\n",
    "    -1/2 * log(2 * π * σ²) .- 1/2 * (x .- μ).^2 / σ²\n",
    "end\n",
    "\n",
    "function L_T(θ::Array, x::Array)\n",
    "    mean(L_t(θ, x))\n",
    "end"
   ]
  },
  {
   "cell_type": "code",
   "execution_count": 5,
   "metadata": {},
   "outputs": [
    {
     "data": {
      "text/plain": [
       "Results of Optimization Algorithm\n",
       " * Algorithm: BFGS\n",
       " * Starting Point: [1.0,1.0]\n",
       " * Minimizer: [1.53669207719603,1.2607427545544763]\n",
       " * Minimum: 1.534789e+00\n",
       " * Iterations: 5\n",
       " * Convergence: true\n",
       "   * |x - x'| ≤ 0.0e+00: false \n",
       "     |x - x'| = 1.40e-07 \n",
       "   * |f(x) - f(x')| ≤ 0.0e+00 |f(x)|: false\n",
       "     |f(x) - f(x')| = 5.35e-15 |f(x)|\n",
       "   * |g(x)| ≤ 1.0e-08: true \n",
       "     |g(x)| = 1.45e-11 \n",
       "   * Stopped by an increasing objective: false\n",
       "   * Reached Maximum Number of Iterations: false\n",
       " * Objective Calls: 13\n",
       " * Gradient Calls: 13"
      ]
     },
     "execution_count": 5,
     "metadata": {},
     "output_type": "execute_result"
    }
   ],
   "source": [
    "# Generate data\n",
    "data = rand(Normal(1.5, 1), 100)\n",
    "\n",
    "# Maximize the average log likelihood, with starting values [1 1],\n",
    "# with `BFGS` as the solver.\n",
    "# The construct `θ ->` constructs an anonymous function, it tells\n",
    "# optim to the maxmize `L_T` as a function of θ, with `x` fixed.\n",
    "# Since `optimize` minimizes, we pass on the negative\n",
    "# of L_T to maximise. \n",
    "res = optimize(θ -> -L_T(θ, data), ones(2), BFGS())"
   ]
  },
  {
   "cell_type": "code",
   "execution_count": 6,
   "metadata": {},
   "outputs": [
    {
     "data": {
      "text/plain": [
       "1.2607427545544763"
      ]
     },
     "execution_count": 6,
     "metadata": {},
     "output_type": "execute_result"
    }
   ],
   "source": [
    "# The ML estimates\n",
    "μ = res.minimizer[1]\n",
    "σ² = res.minimizer[2]"
   ]
  },
  {
   "cell_type": "markdown",
   "metadata": {},
   "source": [
    "Which of course should be the same as"
   ]
  },
  {
   "cell_type": "code",
   "execution_count": 7,
   "metadata": {},
   "outputs": [
    {
     "data": {
      "text/plain": [
       "(1.5366920772016885, 1.2607427545736334)"
      ]
     },
     "execution_count": 7,
     "metadata": {},
     "output_type": "execute_result"
    }
   ],
   "source": [
    "mean(data), var(data, corrected=false)"
   ]
  },
  {
   "cell_type": "markdown",
   "metadata": {},
   "source": [
    "<a id='section22'></a>\n",
    "## (2.2) Computing Cov($\\theta$)"
   ]
  },
  {
   "cell_type": "code",
   "execution_count": 8,
   "metadata": {},
   "outputs": [
    {
     "data": {
      "text/plain": [
       "2×2 Array{Float64,2}:\n",
       " 0.793183    3.5601e-12\n",
       " 3.5601e-12  0.31457   "
      ]
     },
     "execution_count": 8,
     "metadata": {},
     "output_type": "execute_result"
    }
   ],
   "source": [
    "T = length(data)\n",
    "# The sample mean of the hessians is the same as the \n",
    "# hession of the sample mean (because θ does not depend on t):\n",
    "I = - ForwardDiff.hessian(θ -> L_T(θ, data), res.minimizer)"
   ]
  },
  {
   "cell_type": "code",
   "execution_count": 9,
   "metadata": {},
   "outputs": [
    {
     "data": {
      "text/plain": [
       "true"
      ]
     },
     "execution_count": 9,
     "metadata": {},
     "output_type": "execute_result"
    }
   ],
   "source": [
    "# (map computes the function (hessian) at each data point)\n",
    "I_alt = - mean(map(x -> \n",
    "                    ForwardDiff.hessian(θ -> L_t(θ, x), res.minimizer),\n",
    "                    data)\n",
    ")\n",
    "\n",
    "I == I_alt"
   ]
  },
  {
   "cell_type": "code",
   "execution_count": 10,
   "metadata": {},
   "outputs": [
    {
     "data": {
      "text/plain": [
       "2×2 Array{Float64,2}:\n",
       "  0.793183   -0.0353099\n",
       " -0.0353099   0.384995 "
      ]
     },
     "execution_count": 10,
     "metadata": {},
     "output_type": "execute_result"
    }
   ],
   "source": [
    "# Enforcing symmetry\n",
    "I = (I + I') / 2\n",
    "\n",
    "# The sample average of the outer product of the score:\n",
    "G = ForwardDiff.jacobian(z -> L_t(z, data), res.minimizer)\n",
    "J = G' * G / T"
   ]
  },
  {
   "cell_type": "markdown",
   "metadata": {},
   "source": [
    "The 3 different variance-covariance estimates"
   ]
  },
  {
   "cell_type": "code",
   "execution_count": 11,
   "metadata": {},
   "outputs": [
    {
     "data": {
      "text/plain": [
       "2-element Array{Float64,1}:\n",
       " 0.11228280164631076\n",
       " 0.1782959502127462 "
      ]
     },
     "execution_count": 11,
     "metadata": {},
     "output_type": "execute_result"
    }
   ],
   "source": [
    "# se1\n",
    "vcv1 = inv(I) / T\n",
    "sqrt.(diag(vcv1))"
   ]
  },
  {
   "cell_type": "code",
   "execution_count": 12,
   "metadata": {},
   "outputs": [
    {
     "data": {
      "text/plain": [
       "2-element Array{Float64,1}:\n",
       " 0.11251272376487367\n",
       " 0.1614957425900758 "
      ]
     },
     "execution_count": 12,
     "metadata": {},
     "output_type": "execute_result"
    }
   ],
   "source": [
    "# se2\n",
    "vcv2 = inv(J) / T\n",
    "sqrt.(diag(vcv2))"
   ]
  },
  {
   "cell_type": "code",
   "execution_count": 13,
   "metadata": {},
   "outputs": [
    {
     "data": {
      "text/plain": [
       "2-element Array{Float64,1}:\n",
       " 0.11228280164722043\n",
       " 0.19724694148004998"
      ]
     },
     "execution_count": 13,
     "metadata": {},
     "output_type": "execute_result"
    }
   ],
   "source": [
    "# se3\n",
    "vcv3 = inv(I) * J * inv(I) / T\n",
    "sqrt.(diag(vcv3))"
   ]
  },
  {
   "cell_type": "markdown",
   "metadata": {},
   "source": [
    "--------------------"
   ]
  },
  {
   "cell_type": "markdown",
   "metadata": {},
   "source": [
    "<a id='section3'></a>\n",
    "## (3) MA(1)"
   ]
  },
  {
   "cell_type": "markdown",
   "metadata": {},
   "source": [
    "Simulate an MA(1)\n",
    "\n",
    "$y_t = \\mu + \\epsilon_t + \\theta \\epsilon_{t-1}$\n",
    "\n",
    "And estimate it with the conditional likelihood (i.e. given $\\epsilon_0 = 0$) \n",
    "\n",
    "(Reference: Hamilton ch 5.4 p.127)"
   ]
  },
  {
   "cell_type": "code",
   "execution_count": 1,
   "metadata": {},
   "outputs": [
    {
     "data": {
      "text/plain": [
       "L_T (generic function with 1 method)"
      ]
     },
     "execution_count": 1,
     "metadata": {},
     "output_type": "execute_result"
    }
   ],
   "source": [
    "using Distributions: Normal, logpdf\n",
    "using Statistics: mean\n",
    "using Optim: optimize, BFGS\n",
    "using Random\n",
    "\n",
    "Random.seed!(123)\n",
    "\n",
    "# Simulate the MA(1)\n",
    "T = 1000\n",
    "θ₁ = 0.1\n",
    "μ = 1.5\n",
    "σ² = 1.9\n",
    "ϵ = rand(Normal(0, sqrt(σ²)), T)\n",
    "y = zeros(T)\n",
    "for t in 2:T\n",
    "    y[t] = μ + ϵ[t] + θ₁ * ϵ[t-1]\n",
    "end\n",
    "\n",
    "# The conditional likelihood for each observation\n",
    "function L_t(θ::Array, x::Array)\n",
    "    T = length(x)\n",
    "    μ = θ[1]\n",
    "    θ₁ = θ[2]\n",
    "    σ² = θ[3]\n",
    "    if σ² <0 return Inf end \n",
    "    # Why `eltype`: With temporary storage allocated\n",
    "    # inside a function, ForwardDiff needs an explicit type\n",
    "    # declaration\n",
    "    ϵ = zeros(eltype(θ), T)\n",
    "    ϵ[1] = x[1] - μ \n",
    "    \n",
    "    for t in 2:T\n",
    "        ϵ[t] = x[t] - μ - θ₁ * ϵ[t-1]\n",
    "    end\n",
    "    \n",
    "    # The pdf of every x_t is N(μ + θϵ_t, σ²)\n",
    "    # Instead of writing down the simple normal likelihood algebra,\n",
    "    # we can just use the Julia generic logpdf function\n",
    "    logpdf.(Normal.(-(ϵ-x), sqrt(σ²)), x)\n",
    "end\n",
    "\n",
    "function L_T(θ::Array, x::Array)\n",
    "    mean(L_t(θ, x))\n",
    "end"
   ]
  },
  {
   "cell_type": "markdown",
   "metadata": {},
   "source": [
    "Maximize the likelihood as before"
   ]
  },
  {
   "cell_type": "code",
   "execution_count": 2,
   "metadata": {},
   "outputs": [
    {
     "data": {
      "text/plain": [
       "Results of Optimization Algorithm\n",
       " * Algorithm: BFGS\n",
       " * Starting Point: [1.0,1.0,1.0]\n",
       " * Minimizer: [1.5357122438059683,0.12888640802855023, ...]\n",
       " * Minimum: 1.747966e+00\n",
       " * Iterations: 14\n",
       " * Convergence: true\n",
       "   * |x - x'| ≤ 0.0e+00: false \n",
       "     |x - x'| = 2.02e-06 \n",
       "   * |f(x) - f(x')| ≤ 0.0e+00 |f(x)|: false\n",
       "     |f(x) - f(x')| = 5.53e-13 |f(x)|\n",
       "   * |g(x)| ≤ 1.0e-08: true \n",
       "     |g(x)| = 2.26e-09 \n",
       "   * Stopped by an increasing objective: false\n",
       "   * Reached Maximum Number of Iterations: false\n",
       " * Objective Calls: 51\n",
       " * Gradient Calls: 51"
      ]
     },
     "execution_count": 2,
     "metadata": {},
     "output_type": "execute_result"
    }
   ],
   "source": [
    "res = optimize(θ -> -L_T(θ, y), ones(3), BFGS())"
   ]
  },
  {
   "cell_type": "code",
   "execution_count": 3,
   "metadata": {},
   "outputs": [
    {
     "data": {
      "text/plain": [
       "3-element Array{Float64,1}:\n",
       " 1.5357122438059683 \n",
       " 0.12888640802855023\n",
       " 1.9310342650975323 "
      ]
     },
     "execution_count": 3,
     "metadata": {},
     "output_type": "execute_result"
    }
   ],
   "source": [
    "# Which is very close\n",
    "res.minimizer"
   ]
  },
  {
   "cell_type": "markdown",
   "metadata": {},
   "source": [
    "-----------------------"
   ]
  },
  {
   "cell_type": "markdown",
   "metadata": {},
   "source": [
    "<a id='section4'></a>\n",
    "##   (4)  GARCH(1, 1)"
   ]
  },
  {
   "cell_type": "code",
   "execution_count": 17,
   "metadata": {},
   "outputs": [
    {
     "data": {
      "text/plain": [
       "L_T (generic function with 1 method)"
      ]
     },
     "execution_count": 17,
     "metadata": {},
     "output_type": "execute_result"
    }
   ],
   "source": [
    "using LinearAlgebra: inv, diag, Diagonal\n",
    "using Optim: optimize, BFGS\n",
    "using Distributions: Normal, logpdf\n",
    "using Statistics: var, mean\n",
    "using Plots: plot\n",
    "using ForwardDiff\n",
    "using Random\n",
    "\n",
    "\"\"\"\n",
    "The log likelihood for each observation of a GARCH(1, 1), with\n",
    "non-negativity enforced by the transformation θ^2\n",
    "\"\"\"\n",
    "function L_t(θ::Array, R::Array)\n",
    "    μ = θ[1]\n",
    "    α₀ = θ[2]^2\n",
    "    α₁ = θ[3]^2\n",
    "    β = θ[4]^2\n",
    "    T = length(R)\n",
    "\n",
    "    ε = R .- μ\n",
    "    σ² = zeros(typeof(α₀), T) \n",
    "    σ²[1] = α₀ + α₁* var(R, corrected=false) + β * var(R, corrected=false)\n",
    "    # Alternative: σ²[1] = α₀ + α₁* 0 + β * var(R) \n",
    "  \n",
    "    for t=2:T\n",
    "      σ²[t] = α₀ + α₁ * ε[t-1] ^ 2 + β * σ²[t-1]\n",
    "    end\n",
    "    \n",
    "    logpdf.(Normal.(μ, sqrt.(σ²)), R)\n",
    "end\n",
    "\n",
    "function L_T(θ::Array, x::Array)\n",
    "    mean(L_t(θ, x))\n",
    "end"
   ]
  },
  {
   "cell_type": "code",
   "execution_count": 18,
   "metadata": {
    "scrolled": false
   },
   "outputs": [
    {
     "data": {
      "image/svg+xml": [
       "<?xml version=\"1.0\" encoding=\"utf-8\"?>\n",
       "<svg xmlns=\"http://www.w3.org/2000/svg\" xmlns:xlink=\"http://www.w3.org/1999/xlink\" width=\"600\" height=\"400\" viewBox=\"0 0 2400 1600\">\n",
       "<defs>\n",
       "  <clipPath id=\"clip3500\">\n",
       "    <rect x=\"0\" y=\"0\" width=\"2000\" height=\"2000\"/>\n",
       "  </clipPath>\n",
       "</defs>\n",
       "<defs>\n",
       "  <clipPath id=\"clip3501\">\n",
       "    <rect x=\"0\" y=\"0\" width=\"2400\" height=\"1600\"/>\n",
       "  </clipPath>\n",
       "</defs>\n",
       "<polygon clip-path=\"url(#clip3501)\" points=\"\n",
       "0,1600 2400,1600 2400,0 0,0 \n",
       "  \" fill=\"#ffffff\" fill-opacity=\"1\"/>\n",
       "<defs>\n",
       "  <clipPath id=\"clip3502\">\n",
       "    <rect x=\"480\" y=\"0\" width=\"1681\" height=\"1600\"/>\n",
       "  </clipPath>\n",
       "</defs>\n",
       "<polygon clip-path=\"url(#clip3501)\" points=\"\n",
       "214.919,1503.47 2321.26,1503.47 2321.26,47.2441 214.919,47.2441 \n",
       "  \" fill=\"#ffffff\" fill-opacity=\"1\"/>\n",
       "<defs>\n",
       "  <clipPath id=\"clip3503\">\n",
       "    <rect x=\"214\" y=\"47\" width=\"2107\" height=\"1457\"/>\n",
       "  </clipPath>\n",
       "</defs>\n",
       "<polyline clip-path=\"url(#clip3503)\" style=\"stroke:#000000; stroke-width:2; stroke-opacity:0.1; fill:none\" points=\"\n",
       "  271.689,1503.47 271.689,47.2441 \n",
       "  \"/>\n",
       "<polyline clip-path=\"url(#clip3503)\" style=\"stroke:#000000; stroke-width:2; stroke-opacity:0.1; fill:none\" points=\"\n",
       "  840.249,1503.47 840.249,47.2441 \n",
       "  \"/>\n",
       "<polyline clip-path=\"url(#clip3503)\" style=\"stroke:#000000; stroke-width:2; stroke-opacity:0.1; fill:none\" points=\"\n",
       "  1408.81,1503.47 1408.81,47.2441 \n",
       "  \"/>\n",
       "<polyline clip-path=\"url(#clip3503)\" style=\"stroke:#000000; stroke-width:2; stroke-opacity:0.1; fill:none\" points=\"\n",
       "  1977.37,1503.47 1977.37,47.2441 \n",
       "  \"/>\n",
       "<polyline clip-path=\"url(#clip3503)\" style=\"stroke:#000000; stroke-width:2; stroke-opacity:0.1; fill:none\" points=\"\n",
       "  214.919,1462.26 2321.26,1462.26 \n",
       "  \"/>\n",
       "<polyline clip-path=\"url(#clip3503)\" style=\"stroke:#000000; stroke-width:2; stroke-opacity:0.1; fill:none\" points=\"\n",
       "  214.919,1031.76 2321.26,1031.76 \n",
       "  \"/>\n",
       "<polyline clip-path=\"url(#clip3503)\" style=\"stroke:#000000; stroke-width:2; stroke-opacity:0.1; fill:none\" points=\"\n",
       "  214.919,601.253 2321.26,601.253 \n",
       "  \"/>\n",
       "<polyline clip-path=\"url(#clip3503)\" style=\"stroke:#000000; stroke-width:2; stroke-opacity:0.1; fill:none\" points=\"\n",
       "  214.919,170.749 2321.26,170.749 \n",
       "  \"/>\n",
       "<polyline clip-path=\"url(#clip3501)\" style=\"stroke:#000000; stroke-width:4; stroke-opacity:1; fill:none\" points=\"\n",
       "  214.919,1503.47 2321.26,1503.47 \n",
       "  \"/>\n",
       "<polyline clip-path=\"url(#clip3501)\" style=\"stroke:#000000; stroke-width:4; stroke-opacity:1; fill:none\" points=\"\n",
       "  214.919,1503.47 214.919,47.2441 \n",
       "  \"/>\n",
       "<polyline clip-path=\"url(#clip3501)\" style=\"stroke:#000000; stroke-width:4; stroke-opacity:1; fill:none\" points=\"\n",
       "  271.689,1503.47 271.689,1481.63 \n",
       "  \"/>\n",
       "<polyline clip-path=\"url(#clip3501)\" style=\"stroke:#000000; stroke-width:4; stroke-opacity:1; fill:none\" points=\"\n",
       "  840.249,1503.47 840.249,1481.63 \n",
       "  \"/>\n",
       "<polyline clip-path=\"url(#clip3501)\" style=\"stroke:#000000; stroke-width:4; stroke-opacity:1; fill:none\" points=\"\n",
       "  1408.81,1503.47 1408.81,1481.63 \n",
       "  \"/>\n",
       "<polyline clip-path=\"url(#clip3501)\" style=\"stroke:#000000; stroke-width:4; stroke-opacity:1; fill:none\" points=\"\n",
       "  1977.37,1503.47 1977.37,1481.63 \n",
       "  \"/>\n",
       "<polyline clip-path=\"url(#clip3501)\" style=\"stroke:#000000; stroke-width:4; stroke-opacity:1; fill:none\" points=\"\n",
       "  214.919,1462.26 246.514,1462.26 \n",
       "  \"/>\n",
       "<polyline clip-path=\"url(#clip3501)\" style=\"stroke:#000000; stroke-width:4; stroke-opacity:1; fill:none\" points=\"\n",
       "  214.919,1031.76 246.514,1031.76 \n",
       "  \"/>\n",
       "<polyline clip-path=\"url(#clip3501)\" style=\"stroke:#000000; stroke-width:4; stroke-opacity:1; fill:none\" points=\"\n",
       "  214.919,601.253 246.514,601.253 \n",
       "  \"/>\n",
       "<polyline clip-path=\"url(#clip3501)\" style=\"stroke:#000000; stroke-width:4; stroke-opacity:1; fill:none\" points=\"\n",
       "  214.919,170.749 246.514,170.749 \n",
       "  \"/>\n",
       "<g clip-path=\"url(#clip3501)\">\n",
       "<text style=\"fill:#000000; fill-opacity:1; font-family:Arial,Helvetica Neue,Helvetica,sans-serif; font-size:48px; text-anchor:middle;\" transform=\"rotate(0, 271.689, 1557.47)\" x=\"271.689\" y=\"1557.47\">0</text>\n",
       "</g>\n",
       "<g clip-path=\"url(#clip3501)\">\n",
       "<text style=\"fill:#000000; fill-opacity:1; font-family:Arial,Helvetica Neue,Helvetica,sans-serif; font-size:48px; text-anchor:middle;\" transform=\"rotate(0, 840.249, 1557.47)\" x=\"840.249\" y=\"1557.47\">200</text>\n",
       "</g>\n",
       "<g clip-path=\"url(#clip3501)\">\n",
       "<text style=\"fill:#000000; fill-opacity:1; font-family:Arial,Helvetica Neue,Helvetica,sans-serif; font-size:48px; text-anchor:middle;\" transform=\"rotate(0, 1408.81, 1557.47)\" x=\"1408.81\" y=\"1557.47\">400</text>\n",
       "</g>\n",
       "<g clip-path=\"url(#clip3501)\">\n",
       "<text style=\"fill:#000000; fill-opacity:1; font-family:Arial,Helvetica Neue,Helvetica,sans-serif; font-size:48px; text-anchor:middle;\" transform=\"rotate(0, 1977.37, 1557.47)\" x=\"1977.37\" y=\"1557.47\">600</text>\n",
       "</g>\n",
       "<g clip-path=\"url(#clip3501)\">\n",
       "<text style=\"fill:#000000; fill-opacity:1; font-family:Arial,Helvetica Neue,Helvetica,sans-serif; font-size:48px; text-anchor:end;\" transform=\"rotate(0, 190.919, 1479.76)\" x=\"190.919\" y=\"1479.76\">0.050</text>\n",
       "</g>\n",
       "<g clip-path=\"url(#clip3501)\">\n",
       "<text style=\"fill:#000000; fill-opacity:1; font-family:Arial,Helvetica Neue,Helvetica,sans-serif; font-size:48px; text-anchor:end;\" transform=\"rotate(0, 190.919, 1049.26)\" x=\"190.919\" y=\"1049.26\">0.055</text>\n",
       "</g>\n",
       "<g clip-path=\"url(#clip3501)\">\n",
       "<text style=\"fill:#000000; fill-opacity:1; font-family:Arial,Helvetica Neue,Helvetica,sans-serif; font-size:48px; text-anchor:end;\" transform=\"rotate(0, 190.919, 618.753)\" x=\"190.919\" y=\"618.753\">0.060</text>\n",
       "</g>\n",
       "<g clip-path=\"url(#clip3501)\">\n",
       "<text style=\"fill:#000000; fill-opacity:1; font-family:Arial,Helvetica Neue,Helvetica,sans-serif; font-size:48px; text-anchor:end;\" transform=\"rotate(0, 190.919, 188.249)\" x=\"190.919\" y=\"188.249\">0.065</text>\n",
       "</g>\n",
       "<polyline clip-path=\"url(#clip3503)\" style=\"stroke:#009af9; stroke-width:4; stroke-opacity:1; fill:none\" points=\"\n",
       "  274.532,1462.26 277.375,1340.01 280.218,814.507 283.061,582.414 285.903,748.144 288.746,961.343 291.589,882.917 294.432,1055.73 297.275,1177.69 300.117,1169.65 \n",
       "  302.96,1191.89 305.803,1150.28 308.646,1223.03 311.488,1289.36 314.331,1340.77 317.174,1353.93 320.017,1166.01 322.86,1230.8 325.702,1254.85 328.545,1194.35 \n",
       "  331.388,1257.63 334.231,1273.68 337.074,1326.35 339.916,1317.69 342.759,1349.89 345.602,1374.54 348.445,1234.99 351.288,1292.54 354.13,1311.71 356.973,1323.39 \n",
       "  359.816,1330.66 362.659,1323 365.502,1329.11 368.344,1327.11 371.187,1366.03 374.03,1373.52 376.873,1397.99 379.716,1282.99 382.558,1205.37 385.401,1273.43 \n",
       "  388.244,1281.68 391.087,1126.44 393.93,1077.31 396.772,1185.3 399.615,1233.84 402.458,1088.46 405.301,1086.88 408.144,1150.76 410.986,1222.56 413.829,1188.67 \n",
       "  416.672,1266.75 419.515,1283.05 422.358,1330.74 425.2,1354.4 428.043,1318.69 430.886,1313.74 433.729,1166.39 436.572,1245.65 439.414,1289.56 442.257,1315.22 \n",
       "  445.1,1307.34 447.943,1342.2 450.785,1282.58 453.628,1322.04 456.471,1231.53 459.314,1245.41 462.157,1283.29 464.999,1151.81 467.842,1235.21 470.685,1210.57 \n",
       "  473.528,1186.17 476.371,1202.9 479.213,1251.23 482.056,1195.14 484.899,1261.28 487.742,1232.56 490.585,1301.43 493.427,1219.41 496.27,1291.23 499.113,1336.09 \n",
       "  501.956,1368.64 504.799,1284.92 507.641,1185.48 510.484,1010.28 513.327,1108.24 516.17,1210.76 519.013,1286.09 521.855,1332.92 524.698,1248.21 527.541,905.888 \n",
       "  530.384,1015.2 533.227,1110.99 536.069,950.039 538.912,1096.18 541.755,1032.12 544.598,1046.79 547.441,1131.83 550.283,1230.92 553.126,1206.48 555.969,1019.3 \n",
       "  558.812,1144.67 561.655,1124.16 564.497,1069.26 567.34,1166.07 570.183,982.205 573.026,811.165 575.869,967.37 578.711,1115.56 581.554,1168.75 584.397,1237.39 \n",
       "  587.24,1131.77 590.082,1226.36 592.925,1121.02 595.768,1165.47 598.611,1254.49 601.454,1308.84 604.296,1340.63 607.139,1317.31 609.982,1336.69 612.825,1314.61 \n",
       "  615.668,1335.86 618.51,1204.33 621.353,914.193 624.196,1063.55 627.039,1165.84 629.882,1231.28 632.724,1140.96 635.567,1233.58 638.41,1245.29 641.253,1309.84 \n",
       "  644.096,1222.42 646.938,1294.37 649.781,1245.66 652.624,1195.66 655.467,1274.93 658.31,1187.73 661.152,1250.64 663.995,742.381 666.838,857.943 669.681,296.664 \n",
       "  672.524,642.308 675.366,618.146 678.209,781.832 681.052,812.834 683.895,919.397 686.738,1076.92 689.58,1183.43 692.423,1262.2 695.266,1068.98 698.109,1169.46 \n",
       "  700.952,1246.82 703.794,1309 706.637,1354.22 709.48,1223.61 712.323,1076.02 715.165,658.648 718.008,873.382 720.851,1030.17 723.694,878.759 726.537,1046.27 \n",
       "  729.379,1162.05 732.222,1224.64 735.065,1180.01 737.908,1101.31 740.751,1208.98 743.593,1281.66 746.436,1333.9 749.279,1327.07 752.122,1366.23 754.965,1012.08 \n",
       "  757.807,1147.14 760.65,1116.99 763.493,1197.23 766.336,1110.28 769.179,1034.59 772.021,1003.2 774.864,1140.86 777.707,1225.71 780.55,1256.15 783.393,1177.97 \n",
       "  786.235,1245.26 789.078,1307.82 791.921,1300.31 794.764,1324.29 797.607,1348.55 800.449,1367.04 803.292,1242.89 806.135,1308.44 808.978,1352.43 811.821,1247.86 \n",
       "  814.663,1118.73 817.506,1126.81 820.349,1172.75 823.192,1181.21 826.035,1263.09 828.877,1308.47 831.72,1326.74 834.563,1349.41 837.406,1374.46 840.249,1398.83 \n",
       "  843.091,1412.1 845.934,1398.96 848.777,1395.19 851.62,1414.69 854.462,1222.88 857.305,1273.28 860.148,1176.65 862.991,1242.37 865.834,1304.12 868.676,1336.7 \n",
       "  871.519,1263.72 874.362,1249.78 877.205,1205.74 880.048,1219.65 882.89,1173.39 885.733,1196.15 888.576,1270.67 891.419,1305.9 894.262,1258.77 897.104,1319.26 \n",
       "  899.947,1353.9 902.79,1243.19 905.633,1304.72 908.476,860.276 911.318,988.837 914.161,942.098 917.004,1077.09 919.847,1159.36 922.69,1233.48 925.532,1222.85 \n",
       "  928.375,1283.62 931.218,732.894 934.061,901.624 936.904,976.646 939.746,644.143 942.589,579.547 945.432,838.051 948.275,639.581 951.118,876.51 953.96,1025.03 \n",
       "  956.803,1149.1 959.646,1112.98 962.489,1134.27 965.332,1073.95 968.174,1113.73 971.017,1217.56 973.86,1277.21 976.703,1287.39 979.546,1196.78 982.388,1154.26 \n",
       "  985.231,1229.71 988.074,1299.37 990.917,1257.52 993.759,1279.17 996.602,1184.61 999.445,1266.12 1002.29,1323.87 1005.13,1106.6 1007.97,1178.77 1010.82,1201.41 \n",
       "  1013.66,1277.98 1016.5,1328.22 1019.34,1304.1 1022.19,1336.73 1025.03,1372.72 1027.87,1382.39 1030.72,1395.8 1033.56,1013.42 1036.4,971.548 1039.24,841.93 \n",
       "  1042.09,787.596 1044.93,989.96 1047.77,1114 1050.62,1169.53 1053.46,1219.9 1056.3,1175.94 1059.14,1255.95 1061.99,1263.65 1064.83,1322.78 1067.67,1129.67 \n",
       "  1070.51,1217.04 1073.36,1068.27 1076.2,1186.39 1079.04,1056.74 1081.89,728.356 1084.73,899.605 1087.57,1068.39 1090.41,1132.01 1093.26,1231.08 1096.1,1288.54 \n",
       "  1098.94,1196.35 1101.79,1275.94 1104.63,1131 1107.47,1201.04 1110.31,1237.87 1113.16,1294.99 1116,1125.91 1118.84,1139.54 1121.69,1057.15 1124.53,925.705 \n",
       "  1127.37,916.534 1130.21,928.54 1133.06,1069.55 1135.9,1040.28 1138.74,1142.57 1141.58,1158.95 1144.43,1247.7 1147.27,1306.88 1150.11,1351.52 1152.96,1371.59 \n",
       "  1155.8,1363.31 1158.64,1387.97 1161.48,1367.23 1164.33,1355.8 1167.17,1387.48 1170.01,1314.27 1172.86,1358.58 1175.7,1385.96 1178.54,1328.89 1181.38,1364.39 \n",
       "  1184.23,1321.63 1187.07,1160.2 1189.91,1249.58 1192.76,722.913 1195.6,941.793 1198.44,1095.79 1201.28,1156.21 1204.13,1244.21 1206.97,1150.17 1209.81,1151.9 \n",
       "  1212.65,890.821 1215.5,383.11 1218.34,704.144 1221.18,916.009 1224.03,936.781 1226.87,1029.88 1229.71,1103.62 1232.55,1206.53 1235.4,1182.15 1238.24,1263.84 \n",
       "  1241.08,1320.73 1243.93,1354.48 1246.77,1382.15 1249.61,1401.47 1252.45,1274.01 1255.3,1243.44 1258.14,1306.6 1260.98,1344.72 1263.83,1351.82 1266.67,1371.67 \n",
       "  1269.51,1153.01 1272.35,1240.74 1275.2,1282.9 1278.04,1271.25 1280.88,1322.19 1283.72,1105.41 1286.57,1206.56 1289.41,1085.49 1292.25,1098.84 1295.1,1206.77 \n",
       "  1297.94,1250.48 1300.78,1295.13 1303.62,1258.87 1306.47,1318.82 1309.31,1331.9 1312.15,1203.74 1315,1280.61 1317.84,1308.23 1320.68,1228.79 1323.52,1296.39 \n",
       "  1326.37,1342.35 1329.21,1190.68 1332.05,1251.67 1334.89,1270.74 1337.74,1264.66 1340.58,1166.71 1343.42,1243.72 1346.27,1139.4 1349.11,1160.51 1351.95,1088.38 \n",
       "  1354.79,1200.33 1357.64,1278.7 1360.48,1332.15 1363.32,1305.24 1366.17,1165.87 1369.01,1235.92 1371.85,1302.93 1374.69,1078.5 1377.54,1191.22 1380.38,940.264 \n",
       "  1383.22,1094.4 1386.07,1198.47 1388.91,1277.26 1391.75,1332.73 1394.59,880.111 1397.44,959.664 1400.28,1071.69 1403.12,1054.26 1405.96,801.363 1408.81,998.65 \n",
       "  1411.65,585.957 1414.49,714.494 1417.34,788.255 1420.18,943.361 1423.02,804.746 1425.86,376.842 1428.71,428.817 1431.55,170.724 1434.39,523.328 1437.24,88.4582 \n",
       "  1440.08,499.008 1442.92,588.881 1445.76,850.001 1448.61,825.528 1451.45,1016.22 1454.29,1140.54 1457.14,1220.53 1459.98,1276.42 1462.82,1268.39 1465.66,1325.61 \n",
       "  1468.51,1362.87 1471.35,1388.86 1474.19,1302.61 1477.03,1302.42 1479.88,1254.36 1482.72,1315.84 1485.56,1310.69 1488.41,1255.5 1491.25,1310.74 1494.09,864.405 \n",
       "  1496.93,323.084 1499.78,302.934 1502.62,595.369 1505.46,849.881 1508.31,1007.09 1511.15,1081.46 1513.99,850.936 1516.83,818.021 1519.68,998.707 1522.52,1113.4 \n",
       "  1525.36,819.228 1528.21,1001.39 1531.05,1077.84 1533.89,1093.04 1536.73,1169.89 1539.58,1053.47 1542.42,1122.76 1545.26,1212.65 1548.1,928.354 1550.95,1085.77 \n",
       "  1553.79,1118.02 1556.63,1156.28 1559.48,1232.44 1562.32,1026.07 1565.16,977.571 1568,1117.35 1570.85,1200.52 1573.69,1260.4 1576.53,1312.92 1579.38,952.182 \n",
       "  1582.22,1063.99 1585.06,1181.09 1587.9,1264.01 1590.75,1246.95 1593.59,1311.11 1596.43,1292.96 1599.27,1305.59 1602.12,1338.05 1604.96,1372.92 1607.8,1369.96 \n",
       "  1610.65,1397.5 1613.49,1406.55 1616.33,1415.05 1619.17,1338.94 1622.02,1068.1 1624.86,1125.1 1627.7,1207.05 1630.55,1265.02 1633.39,1195.59 1636.23,1268.6 \n",
       "  1639.07,1326.68 1641.92,1348.39 1644.76,1379.24 1647.6,1341.49 1650.45,937.477 1653.29,1061.56 1656.13,1091.72 1658.97,1201.81 1661.82,1184.18 1664.66,1242.72 \n",
       "  1667.5,1303.12 1670.34,1292.25 1673.19,1338.81 1676.03,1341.92 1678.87,1366.1 1681.72,1383.06 1684.56,1405.79 1687.4,1422.42 1690.24,1133.73 1693.09,1176.1 \n",
       "  1695.93,1238.06 1698.77,1303.24 1701.62,1347.91 1704.46,1371.26 1707.3,1090.83 1710.14,1101.22 1712.99,1053.81 1715.83,1103.08 1718.67,1087.3 1721.52,1019.13 \n",
       "  1724.36,1137.02 1727.2,1145.33 1730.04,1117.94 1732.89,1175.04 1735.73,1249.64 1738.57,1110.05 1741.41,980.852 1744.26,1113.73 1747.1,1194.54 1749.94,1253.78 \n",
       "  1752.79,1284.1 1755.63,1249.27 1758.47,1312.89 1761.31,1343.21 1764.16,1377.8 1767,1385.75 1769.84,1381.45 1772.69,1347.47 1775.53,1227.47 1778.37,1290.89 \n",
       "  1781.21,1319.62 1784.06,798.81 1786.9,978.407 1789.74,946.305 1792.59,1098.7 1795.43,1047.29 1798.27,1074.87 1801.11,1152.76 1803.96,1245.57 1806.8,1265.68 \n",
       "  1809.64,1197.71 1812.48,1275.11 1815.33,1281.78 1818.17,1207.89 1821.01,1273.87 1823.86,1323.55 1826.7,1359.06 1829.54,1101.11 1832.38,1197.51 1835.23,1265.25 \n",
       "  1838.07,1203.55 1840.91,1185.16 1843.76,1194.45 1846.6,1273.22 1849.44,1329.38 1852.28,1354.02 1855.13,1283.6 1857.97,1317.79 1860.81,1351.88 1863.66,1271.36 \n",
       "  1866.5,1233.31 1869.34,994.134 1872.18,1079.11 1875.03,1193.65 1877.87,1145.6 1880.71,1237.37 1883.55,1136.1 1886.4,1221.96 1889.24,1141.15 1892.08,1235.99 \n",
       "  1894.93,1208.83 1897.77,1208.25 1900.61,1269.01 1903.45,1322.18 1906.3,1189.12 1909.14,1199.3 1911.98,1274.92 1914.83,1322.81 1917.67,1346.32 1920.51,1344.28 \n",
       "  1923.35,1318.13 1926.2,1348.73 1929.04,1225.37 1931.88,1290.14 1934.72,1338.64 1937.57,1064.43 1940.41,1172.02 1943.25,1158.27 1946.1,1217.94 1948.94,1266.21 \n",
       "  1951.78,1283.78 1954.62,1329.37 1957.47,1353.43 1960.31,1251.21 1963.15,1245.65 1966,1293.49 1968.84,1304.4 1971.68,1345.71 1974.52,1353.29 1977.37,1194.5 \n",
       "  1980.21,1267.48 1983.05,1307.47 1985.9,1352.15 1988.74,1337.3 1991.58,1160.22 1994.42,1233.08 1997.27,1076.04 2000.11,996.34 2002.95,1115.53 2005.79,1173.63 \n",
       "  2008.64,1257.68 2011.48,1100.38 2014.32,1187.59 2017.17,1269.98 2020.01,809.725 2022.85,955.198 2025.69,968.48 2028.54,1024.29 2031.38,1120.5 2034.22,1222.77 \n",
       "  2037.07,1246.73 2039.91,1296.62 2042.75,1278.47 2045.59,1318.18 2048.44,1177.79 2051.28,1236.88 2054.12,1239.68 2056.97,1305.22 2059.81,1302.77 2062.65,1232.21 \n",
       "  2065.49,1301.07 2068.34,1337.46 2071.18,1291.9 2074.02,1296.66 2076.86,1338.32 2079.71,1315.15 2082.55,1301.06 2085.39,1083.08 2088.24,1189.19 2091.08,961.881 \n",
       "  2093.92,1018.32 2096.76,994.228 2099.61,1131.86 2102.45,1150.91 2105.29,949.077 2108.14,1034.22 2110.98,869.761 2113.82,974.576 2116.66,1036.91 2119.51,984.609 \n",
       "  2122.35,789.228 2125.19,937.608 2128.04,1016.4 2130.88,1149.24 2133.72,1240.46 2136.56,890.301 2139.41,1036.05 2142.25,1158.92 2145.09,1169.36 2147.93,1094.66 \n",
       "  2150.78,445.3 2153.62,746.56 2156.46,827.396 2159.31,1007.95 2162.15,886.492 2164.99,977.659 2167.83,1115.04 2170.68,1180.68 2173.52,1208.87 2176.36,1125.97 \n",
       "  2179.21,1205.67 2182.05,1282.61 2184.89,1209.25 2187.73,813.715 2190.58,963.635 2193.42,903.066 2196.26,1036.36 2199.1,1163.38 2201.95,1093.96 2204.79,834.138 \n",
       "  2207.63,968.591 2210.48,1077.89 2213.32,826.749 2216.16,971.231 2219,1077.11 2221.85,739.66 2224.69,923.21 2227.53,1084.92 2230.38,1194.02 2233.22,1247.85 \n",
       "  2236.06,960.642 2238.9,670.033 2241.75,907.192 2244.59,1072.12 2247.43,1167.05 2250.28,1197.11 2253.12,1258.15 2255.96,1315.33 2258.8,1183.28 2261.65,1210.79 \n",
       "  \n",
       "  \"/>\n",
       "<polygon clip-path=\"url(#clip3501)\" points=\"\n",
       "1958.43,251.724 2249.26,251.724 2249.26,130.764 1958.43,130.764 \n",
       "  \" fill=\"#ffffff\" fill-opacity=\"1\"/>\n",
       "<polyline clip-path=\"url(#clip3501)\" style=\"stroke:#000000; stroke-width:4; stroke-opacity:1; fill:none\" points=\"\n",
       "  1958.43,251.724 2249.26,251.724 2249.26,130.764 1958.43,130.764 1958.43,251.724 \n",
       "  \"/>\n",
       "<polyline clip-path=\"url(#clip3501)\" style=\"stroke:#009af9; stroke-width:4; stroke-opacity:1; fill:none\" points=\"\n",
       "  1982.43,191.244 2126.43,191.244 \n",
       "  \"/>\n",
       "<g clip-path=\"url(#clip3501)\">\n",
       "<text style=\"fill:#000000; fill-opacity:1; font-family:Arial,Helvetica Neue,Helvetica,sans-serif; font-size:48px; text-anchor:start;\" transform=\"rotate(0, 2150.43, 208.744)\" x=\"2150.43\" y=\"208.744\">y1</text>\n",
       "</g>\n",
       "</svg>\n"
      ]
     },
     "execution_count": 18,
     "metadata": {},
     "output_type": "execute_result"
    }
   ],
   "source": [
    "# Simulating a GARCH(1, 1)\n",
    "Random.seed!(3)\n",
    "T = 700\n",
    "e = randn(T)\n",
    "u = ones(T)\n",
    "R = zeros(T)\n",
    "sigma2 = fill(0.05, T) # 0.05: The unconditional variance\n",
    "for t=1:(T-1)\n",
    "    u[t] = e[t] * sqrt(sigma2[t])\n",
    "    sigma2[t+1] = 0.015 + 0.02 * u[t]^2 + 0.7 * sigma2[t]\n",
    "    R[t+1] = 0.3 + u[t]\n",
    "end\n",
    "\n",
    "plot(sigma2)"
   ]
  },
  {
   "cell_type": "code",
   "execution_count": 19,
   "metadata": {},
   "outputs": [
    {
     "data": {
      "text/plain": [
       "1×4 Array{Float64,2}:\n",
       " 0.303744  0.00919995  0.0497936  0.775263"
      ]
     },
     "execution_count": 19,
     "metadata": {},
     "output_type": "execute_result"
    }
   ],
   "source": [
    "# Maximize the log likelihood\n",
    "res = optimize(θ -> -L_T(θ, R), [0.5 0.05 0.05 0.5], BFGS())\n",
    "θhat = res.minimizer\n",
    "coefs = [θhat[1] θhat[2]^2 θhat[3]^2 θhat[4]^2]\n",
    "# Should be ~ [0.3 0.015 0.02 0.7]"
   ]
  },
  {
   "cell_type": "code",
   "execution_count": 20,
   "metadata": {},
   "outputs": [
    {
     "data": {
      "text/plain": [
       "4×4 Diagonal{Float64,Array{Float64,1}}:\n",
       " 1.0    ⋅          ⋅        ⋅     \n",
       "  ⋅   -0.191833    ⋅        ⋅     \n",
       "  ⋅     ⋅        -0.44629   ⋅     \n",
       "  ⋅     ⋅          ⋅       1.76098"
      ]
     },
     "execution_count": 20,
     "metadata": {},
     "output_type": "execute_result"
    }
   ],
   "source": [
    "# Standard errors with the Delta method\n",
    "I = - ForwardDiff.hessian(θ -> L_T(θ, R), res.minimizer);\n",
    "I = (I + I') / 2\n",
    "\n",
    "G = ForwardDiff.jacobian(θ -> L_t(θ, R), res.minimizer);\n",
    "J = G' * G / T\n",
    "\n",
    "h = Diagonal([1, 2*θhat[2], 2*θhat[3], 2*θhat[4]])"
   ]
  },
  {
   "cell_type": "code",
   "execution_count": 21,
   "metadata": {},
   "outputs": [
    {
     "data": {
      "text/plain": [
       "4-element Array{Float64,1}:\n",
       " 0.008709850580142666\n",
       " 0.007379152785994987\n",
       " 0.030378694318415642\n",
       " 0.15784390655161396 "
      ]
     },
     "execution_count": 21,
     "metadata": {},
     "output_type": "execute_result"
    }
   ],
   "source": [
    "# se1\n",
    "vcv1 = h * inv(I) * h' / T\n",
    "sqrt.(diag(vcv1))"
   ]
  },
  {
   "cell_type": "code",
   "execution_count": 22,
   "metadata": {},
   "outputs": [
    {
     "data": {
      "text/plain": [
       "4-element Array{Float64,1}:\n",
       " 0.008799795767776872 \n",
       " 0.0058372832472049635\n",
       " 0.027752699553038232 \n",
       " 0.12402738336934056  "
      ]
     },
     "execution_count": 22,
     "metadata": {},
     "output_type": "execute_result"
    }
   ],
   "source": [
    "# se (Q-MLE)\n",
    "vcv2 = h * inv(I) * J * inv(I) * h' / T\n",
    "sqrt.(diag(vcv2))"
   ]
  }
 ],
 "metadata": {
  "kernelspec": {
   "display_name": "Julia 1.0.1",
   "language": "julia",
   "name": "julia-1.0"
  },
  "language_info": {
   "file_extension": ".jl",
   "mimetype": "application/julia",
   "name": "julia",
   "version": "1.0.1"
  }
 },
 "nbformat": 4,
 "nbformat_minor": 2
}
