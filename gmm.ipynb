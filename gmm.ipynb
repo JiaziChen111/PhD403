{
 "cells": [
  {
   "cell_type": "markdown",
   "metadata": {},
   "source": [
    "# GMM\n",
    "\n",
    "Reference: ReviewOfSomeEconometrics180827.pdf, Andrews, D. W. (1991): Heteroskedasticity and autocorrelation consistent covariance matrix estimation.\n",
    "\n",
    "Content:\n",
    "\n",
    "* (1) [Estimation](#section1) ($q=k$)\n",
    "* (2) [Linear models](#section2)\n",
    "* (2.1) [OLS as GMM](#section21)\n",
    "* (2.2) [SURE](#section22)\n",
    "* (3) [Hansen-Singleton](#section3) ($q>k$)\n",
    "* (4) [Cross section](#section4)"
   ]
  },
  {
   "cell_type": "markdown",
   "metadata": {},
   "source": [
    "<a id='section1'></a>\n",
    "## (1) Estimation\n",
    "Estimation with $q=k$. This example make use of results in ReviewOfSomeEconometrics180827.pdf, all notation is the same"
   ]
  },
  {
   "cell_type": "markdown",
   "metadata": {},
   "source": [
    "Estimating mean $\\mu$ and variance $\\sigma^2$ with GMM,  with different standard errors"
   ]
  },
  {
   "cell_type": "code",
   "execution_count": 1,
   "metadata": {},
   "outputs": [
    {
     "data": {
      "text/plain": [
       "1×2 Array{Float64,2}:\n",
       " 8.77076e-17  7.88258e-17"
      ]
     },
     "execution_count": 1,
     "metadata": {},
     "output_type": "execute_result"
    }
   ],
   "source": [
    "using Statistics: mean, var\n",
    "using Distributions: Normal\n",
    "using LinearAlgebra: Diagonal, diag\n",
    "using Plots: plot\n",
    "using ForwardDiff\n",
    "using Random\n",
    "\n",
    "Random.seed!(123)\n",
    "\n",
    "T = 100\n",
    "v = rand(Normal(1.5, 1), T)\n",
    "\n",
    "# The parameter vector is θ = [μ σ²]\n",
    "# And the moment conditions are\n",
    "function f(v, θ)\n",
    "    [v .- θ[1]  (v .- θ[1]).^2 .- θ[2]]\n",
    "end     \n",
    "\n",
    "function g(θ, v)\n",
    "    mean(f(v, θ), dims=1)\n",
    "end\n",
    "\n",
    "# This system is exactly identified with solution sample\n",
    "# mean and variance:\n",
    "μ = mean(v)\n",
    "σ² = var(v, corrected=false)\n",
    "\n",
    "θhat =  [μ; σ²]\n",
    "# So the average moment conditions are of course exactly zero\n",
    "g(θhat, v)"
   ]
  },
  {
   "cell_type": "code",
   "execution_count": 2,
   "metadata": {},
   "outputs": [
    {
     "data": {
      "text/plain": [
       "2×2 Array{Float64,2}:\n",
       " -1.0           0.0\n",
       " -1.62093e-16  -1.0"
      ]
     },
     "execution_count": 2,
     "metadata": {},
     "output_type": "execute_result"
    }
   ],
   "source": [
    "# The gradient matrix of the moment conditions is\n",
    "D = ForwardDiff.jacobian(θ -> g(θ, v), θhat)"
   ]
  },
  {
   "cell_type": "code",
   "execution_count": 3,
   "metadata": {},
   "outputs": [
    {
     "data": {
      "text/plain": [
       "2-element Array{Float64,1}:\n",
       " 0.11228280164716382\n",
       " 0.1972469414860444 "
      ]
     },
     "execution_count": 3,
     "metadata": {},
     "output_type": "execute_result"
    }
   ],
   "source": [
    "# Which for the given `f`, if you write \n",
    "# out the analytical expression, is simply\n",
    "# D₀ = - Diagonal(ones(2))\n",
    "\n",
    "# And given no serial correlation, the covariance \n",
    "# matrix S₀ is equal to Γ₀ (slides: p 32)\n",
    "S = f(v, θhat)' * f(v, θhat) / T\n",
    "\n",
    "vcv = inv(D' * inv(S) * D) / T  # Which simplifies to: S₀ / T \n",
    "\n",
    "# Standard errors\n",
    "sqrt.(diag(vcv)) "
   ]
  },
  {
   "cell_type": "markdown",
   "metadata": {},
   "source": [
    "#### Assuming $v$ is normal"
   ]
  },
  {
   "cell_type": "code",
   "execution_count": 4,
   "metadata": {},
   "outputs": [
    {
     "data": {
      "text/plain": [
       "2-element Array{Float64,1}:\n",
       " 0.11228280164716382\n",
       " 0.17829595021816466"
      ]
     },
     "execution_count": 4,
     "metadata": {},
     "output_type": "execute_result"
    }
   ],
   "source": [
    "# Writing out the analytical expression for\n",
    "# S₀ = E( f(v, θ)' * f(v, θ) ) leads to\n",
    "S₀ = [θhat[2] 0;\n",
    "      0  2*θhat[2]^2] \n",
    "\n",
    "vcv_normal = inv(D' * inv(S₀) * D) / T \n",
    "\n",
    "# Standard errors, which if T → ∞ coincides\n",
    "# with those above\n",
    "sqrt.(diag(vcv_normal))"
   ]
  },
  {
   "cell_type": "markdown",
   "metadata": {},
   "source": [
    "#### Newey and West standard errors"
   ]
  },
  {
   "cell_type": "code",
   "execution_count": 5,
   "metadata": {},
   "outputs": [
    {
     "data": {
      "text/plain": [
       "2-element Array{Float64,1}:\n",
       " 0.10978807215677272\n",
       " 0.20238250307276232"
      ]
     },
     "execution_count": 5,
     "metadata": {},
     "output_type": "execute_result"
    }
   ],
   "source": [
    "# In: `src/NW.jl`\n",
    "function NW(F,M)                                # Newey and West (1987)\n",
    "    T = size(F,1)                               # number of observations\n",
    "    F = F .- mean(F,dims=1)                     # demean\n",
    "    S = F'F/T                                   # lag zero\n",
    "    for j = 1:M                                 # lags -j to +j\n",
    "        Gamma_j = F[j+1:T,:]'F[1:T-j,:]/T\n",
    "        S = S  +  ( 1 - j/(M+1) )*(Gamma_j + Gamma_j')\n",
    "    end\n",
    "\n",
    "    return S\n",
    "end\n",
    "\n",
    "# Gives standard errors\n",
    "sqrt.(diag(NW(f(v, θhat), 1) / T))"
   ]
  },
  {
   "cell_type": "markdown",
   "metadata": {},
   "source": [
    "#### Different weighting kernels illustrated\n",
    "Normalized to have the same variance, reference: Andrews (1991)"
   ]
  },
  {
   "cell_type": "code",
   "execution_count": 6,
   "metadata": {
    "scrolled": true
   },
   "outputs": [
    {
     "data": {
      "text/plain": [
       "kernelweight (generic function with 1 method)"
      ]
     },
     "execution_count": 6,
     "metadata": {},
     "output_type": "execute_result"
    }
   ],
   "source": [
    "x = 0.01:0.01:3.5\n",
    "\n",
    "function kernelweight(kind, x)\n",
    "    if kind == \"truncated\"\n",
    "        x = 2*x\n",
    "        k = Float64.(abs.(x) .<= 1)\n",
    "        k[k .== 0] .= NaN\n",
    "        return k\n",
    "    elseif kind == \"bartlett\"\n",
    "        x = 2 * x / 3\n",
    "        k = abs.(x) .<= 1\n",
    "        k = (1 .- x) .* k\n",
    "        k[k .== 0] .= NaN\n",
    "        return k\n",
    "    elseif kind == \"parzen\"\n",
    "        x = 0.539285 * x\n",
    "        k1 = 1 .- 6 * x.^2 .+ 6 * abs.(x).^3\n",
    "        k1[x .> 0.5] .= 0\n",
    "        k2 = 2 * (1 .- abs.(x)).^3\n",
    "        k2[x .<= 0.5] .= 0\n",
    "        k2[x .> 1] .= 0\n",
    "        k = k1 + k2\n",
    "        k[k .== 0] .= NaN\n",
    "        return k\n",
    "    elseif kind == \"quadratic-spectral\"\n",
    "        k = (25 ./ (12*π^2 * x.^2)) .* ( sin.(6*π * x/5) ./\n",
    "            (6*π * x/5) .- cos.(6*π * x/5) )\n",
    "        return k\n",
    "    end\n",
    "    \n",
    "end"
   ]
  },
  {
   "cell_type": "code",
   "execution_count": 7,
   "metadata": {},
   "outputs": [
    {
     "data": {
      "image/svg+xml": [
       "<?xml version=\"1.0\" encoding=\"utf-8\"?>\n",
       "<svg xmlns=\"http://www.w3.org/2000/svg\" xmlns:xlink=\"http://www.w3.org/1999/xlink\" width=\"600\" height=\"400\" viewBox=\"0 0 2400 1600\">\n",
       "<defs>\n",
       "  <clipPath id=\"clip7900\">\n",
       "    <rect x=\"0\" y=\"0\" width=\"2000\" height=\"2000\"/>\n",
       "  </clipPath>\n",
       "</defs>\n",
       "<defs>\n",
       "  <clipPath id=\"clip7901\">\n",
       "    <rect x=\"0\" y=\"0\" width=\"2400\" height=\"1600\"/>\n",
       "  </clipPath>\n",
       "</defs>\n",
       "<polygon clip-path=\"url(#clip7901)\" points=\"\n",
       "0,1600 2400,1600 2400,0 0,0 \n",
       "  \" fill=\"#ffffff\" fill-opacity=\"1\"/>\n",
       "<defs>\n",
       "  <clipPath id=\"clip7902\">\n",
       "    <rect x=\"480\" y=\"0\" width=\"1681\" height=\"1600\"/>\n",
       "  </clipPath>\n",
       "</defs>\n",
       "<polygon clip-path=\"url(#clip7901)\" points=\"\n",
       "188.156,1503.47 2321.26,1503.47 2321.26,47.2441 188.156,47.2441 \n",
       "  \" fill=\"#ffffff\" fill-opacity=\"1\"/>\n",
       "<defs>\n",
       "  <clipPath id=\"clip7903\">\n",
       "    <rect x=\"188\" y=\"47\" width=\"2134\" height=\"1457\"/>\n",
       "  </clipPath>\n",
       "</defs>\n",
       "<polyline clip-path=\"url(#clip7903)\" style=\"stroke:#000000; stroke-width:2; stroke-opacity:0.1; fill:none\" points=\"\n",
       "  242.761,1503.47 242.761,47.2441 \n",
       "  \"/>\n",
       "<polyline clip-path=\"url(#clip7903)\" style=\"stroke:#000000; stroke-width:2; stroke-opacity:0.1; fill:none\" points=\"\n",
       "  819.369,1503.47 819.369,47.2441 \n",
       "  \"/>\n",
       "<polyline clip-path=\"url(#clip7903)\" style=\"stroke:#000000; stroke-width:2; stroke-opacity:0.1; fill:none\" points=\"\n",
       "  1395.98,1503.47 1395.98,47.2441 \n",
       "  \"/>\n",
       "<polyline clip-path=\"url(#clip7903)\" style=\"stroke:#000000; stroke-width:2; stroke-opacity:0.1; fill:none\" points=\"\n",
       "  1972.59,1503.47 1972.59,47.2441 \n",
       "  \"/>\n",
       "<polyline clip-path=\"url(#clip7903)\" style=\"stroke:#000000; stroke-width:2; stroke-opacity:0.1; fill:none\" points=\"\n",
       "  188.156,1353.27 2321.26,1353.27 \n",
       "  \"/>\n",
       "<polyline clip-path=\"url(#clip7903)\" style=\"stroke:#000000; stroke-width:2; stroke-opacity:0.1; fill:none\" points=\"\n",
       "  188.156,1037.07 2321.26,1037.07 \n",
       "  \"/>\n",
       "<polyline clip-path=\"url(#clip7903)\" style=\"stroke:#000000; stroke-width:2; stroke-opacity:0.1; fill:none\" points=\"\n",
       "  188.156,720.865 2321.26,720.865 \n",
       "  \"/>\n",
       "<polyline clip-path=\"url(#clip7903)\" style=\"stroke:#000000; stroke-width:2; stroke-opacity:0.1; fill:none\" points=\"\n",
       "  188.156,404.662 2321.26,404.662 \n",
       "  \"/>\n",
       "<polyline clip-path=\"url(#clip7903)\" style=\"stroke:#000000; stroke-width:2; stroke-opacity:0.1; fill:none\" points=\"\n",
       "  188.156,88.4582 2321.26,88.4582 \n",
       "  \"/>\n",
       "<polyline clip-path=\"url(#clip7901)\" style=\"stroke:#000000; stroke-width:4; stroke-opacity:1; fill:none\" points=\"\n",
       "  188.156,1503.47 2321.26,1503.47 \n",
       "  \"/>\n",
       "<polyline clip-path=\"url(#clip7901)\" style=\"stroke:#000000; stroke-width:4; stroke-opacity:1; fill:none\" points=\"\n",
       "  188.156,1503.47 188.156,47.2441 \n",
       "  \"/>\n",
       "<polyline clip-path=\"url(#clip7901)\" style=\"stroke:#000000; stroke-width:4; stroke-opacity:1; fill:none\" points=\"\n",
       "  242.761,1503.47 242.761,1481.63 \n",
       "  \"/>\n",
       "<polyline clip-path=\"url(#clip7901)\" style=\"stroke:#000000; stroke-width:4; stroke-opacity:1; fill:none\" points=\"\n",
       "  819.369,1503.47 819.369,1481.63 \n",
       "  \"/>\n",
       "<polyline clip-path=\"url(#clip7901)\" style=\"stroke:#000000; stroke-width:4; stroke-opacity:1; fill:none\" points=\"\n",
       "  1395.98,1503.47 1395.98,1481.63 \n",
       "  \"/>\n",
       "<polyline clip-path=\"url(#clip7901)\" style=\"stroke:#000000; stroke-width:4; stroke-opacity:1; fill:none\" points=\"\n",
       "  1972.59,1503.47 1972.59,1481.63 \n",
       "  \"/>\n",
       "<polyline clip-path=\"url(#clip7901)\" style=\"stroke:#000000; stroke-width:4; stroke-opacity:1; fill:none\" points=\"\n",
       "  188.156,1353.27 220.153,1353.27 \n",
       "  \"/>\n",
       "<polyline clip-path=\"url(#clip7901)\" style=\"stroke:#000000; stroke-width:4; stroke-opacity:1; fill:none\" points=\"\n",
       "  188.156,1037.07 220.153,1037.07 \n",
       "  \"/>\n",
       "<polyline clip-path=\"url(#clip7901)\" style=\"stroke:#000000; stroke-width:4; stroke-opacity:1; fill:none\" points=\"\n",
       "  188.156,720.865 220.153,720.865 \n",
       "  \"/>\n",
       "<polyline clip-path=\"url(#clip7901)\" style=\"stroke:#000000; stroke-width:4; stroke-opacity:1; fill:none\" points=\"\n",
       "  188.156,404.662 220.153,404.662 \n",
       "  \"/>\n",
       "<polyline clip-path=\"url(#clip7901)\" style=\"stroke:#000000; stroke-width:4; stroke-opacity:1; fill:none\" points=\"\n",
       "  188.156,88.4582 220.153,88.4582 \n",
       "  \"/>\n",
       "<g clip-path=\"url(#clip7901)\">\n",
       "<text style=\"fill:#000000; fill-opacity:1; font-family:Arial,Helvetica Neue,Helvetica,sans-serif; font-size:48px; text-anchor:middle;\" transform=\"rotate(0, 242.761, 1557.47)\" x=\"242.761\" y=\"1557.47\">0</text>\n",
       "</g>\n",
       "<g clip-path=\"url(#clip7901)\">\n",
       "<text style=\"fill:#000000; fill-opacity:1; font-family:Arial,Helvetica Neue,Helvetica,sans-serif; font-size:48px; text-anchor:middle;\" transform=\"rotate(0, 819.369, 1557.47)\" x=\"819.369\" y=\"1557.47\">1</text>\n",
       "</g>\n",
       "<g clip-path=\"url(#clip7901)\">\n",
       "<text style=\"fill:#000000; fill-opacity:1; font-family:Arial,Helvetica Neue,Helvetica,sans-serif; font-size:48px; text-anchor:middle;\" transform=\"rotate(0, 1395.98, 1557.47)\" x=\"1395.98\" y=\"1557.47\">2</text>\n",
       "</g>\n",
       "<g clip-path=\"url(#clip7901)\">\n",
       "<text style=\"fill:#000000; fill-opacity:1; font-family:Arial,Helvetica Neue,Helvetica,sans-serif; font-size:48px; text-anchor:middle;\" transform=\"rotate(0, 1972.59, 1557.47)\" x=\"1972.59\" y=\"1557.47\">3</text>\n",
       "</g>\n",
       "<g clip-path=\"url(#clip7901)\">\n",
       "<text style=\"fill:#000000; fill-opacity:1; font-family:Arial,Helvetica Neue,Helvetica,sans-serif; font-size:48px; text-anchor:end;\" transform=\"rotate(0, 164.156, 1370.77)\" x=\"164.156\" y=\"1370.77\">0.00</text>\n",
       "</g>\n",
       "<g clip-path=\"url(#clip7901)\">\n",
       "<text style=\"fill:#000000; fill-opacity:1; font-family:Arial,Helvetica Neue,Helvetica,sans-serif; font-size:48px; text-anchor:end;\" transform=\"rotate(0, 164.156, 1054.57)\" x=\"164.156\" y=\"1054.57\">0.25</text>\n",
       "</g>\n",
       "<g clip-path=\"url(#clip7901)\">\n",
       "<text style=\"fill:#000000; fill-opacity:1; font-family:Arial,Helvetica Neue,Helvetica,sans-serif; font-size:48px; text-anchor:end;\" transform=\"rotate(0, 164.156, 738.365)\" x=\"164.156\" y=\"738.365\">0.50</text>\n",
       "</g>\n",
       "<g clip-path=\"url(#clip7901)\">\n",
       "<text style=\"fill:#000000; fill-opacity:1; font-family:Arial,Helvetica Neue,Helvetica,sans-serif; font-size:48px; text-anchor:end;\" transform=\"rotate(0, 164.156, 422.162)\" x=\"164.156\" y=\"422.162\">0.75</text>\n",
       "</g>\n",
       "<g clip-path=\"url(#clip7901)\">\n",
       "<text style=\"fill:#000000; fill-opacity:1; font-family:Arial,Helvetica Neue,Helvetica,sans-serif; font-size:48px; text-anchor:end;\" transform=\"rotate(0, 164.156, 105.958)\" x=\"164.156\" y=\"105.958\">1.00</text>\n",
       "</g>\n",
       "<polyline clip-path=\"url(#clip7903)\" style=\"stroke:#009af9; stroke-width:4; stroke-opacity:1; fill:none\" points=\"\n",
       "  248.527,88.4582 254.293,88.4582 260.059,88.4582 265.825,88.4582 271.592,88.4582 277.358,88.4582 283.124,88.4582 288.89,88.4582 294.656,88.4582 300.422,88.4582 \n",
       "  306.188,88.4582 311.954,88.4582 317.72,88.4582 323.486,88.4582 329.252,88.4582 335.018,88.4582 340.785,88.4582 346.551,88.4582 352.317,88.4582 358.083,88.4582 \n",
       "  363.849,88.4582 369.615,88.4582 375.381,88.4582 381.147,88.4582 386.913,88.4582 392.679,88.4582 398.445,88.4582 404.211,88.4582 409.977,88.4582 415.744,88.4582 \n",
       "  421.51,88.4582 427.276,88.4582 433.042,88.4582 438.808,88.4582 444.574,88.4582 450.34,88.4582 456.106,88.4582 461.872,88.4582 467.638,88.4582 473.404,88.4582 \n",
       "  479.17,88.4582 484.936,88.4582 490.703,88.4582 496.469,88.4582 502.235,88.4582 508.001,88.4582 513.767,88.4582 519.533,88.4582 525.299,88.4582 531.065,88.4582 \n",
       "  \n",
       "  \"/>\n",
       "<polyline clip-path=\"url(#clip7903)\" style=\"stroke:#e26f46; stroke-width:4; stroke-opacity:1; fill:none\" points=\"\n",
       "  248.527,96.8903 254.293,105.322 260.059,113.754 265.825,122.187 271.592,130.619 277.358,139.051 283.124,147.483 288.89,155.915 294.656,164.347 300.422,172.779 \n",
       "  306.188,181.211 311.954,189.643 317.72,198.075 323.486,206.507 329.252,214.94 335.018,223.372 340.785,231.804 346.551,240.236 352.317,248.668 358.083,257.1 \n",
       "  363.849,265.532 369.615,273.964 375.381,282.396 381.147,290.828 386.913,299.26 392.679,307.693 398.445,316.125 404.211,324.557 409.977,332.989 415.744,341.421 \n",
       "  421.51,349.853 427.276,358.285 433.042,366.717 438.808,375.149 444.574,383.581 450.34,392.013 456.106,400.445 461.872,408.878 467.638,417.31 473.404,425.742 \n",
       "  479.17,434.174 484.936,442.606 490.703,451.038 496.469,459.47 502.235,467.902 508.001,476.334 513.767,484.766 519.533,493.198 525.299,501.631 531.065,510.063 \n",
       "  536.831,518.495 542.597,526.927 548.363,535.359 554.129,543.791 559.896,552.223 565.662,560.655 571.428,569.087 577.194,577.519 582.96,585.951 588.726,594.384 \n",
       "  594.492,602.816 600.258,611.248 606.024,619.68 611.79,628.112 617.556,636.544 623.322,644.976 629.088,653.408 634.855,661.84 640.621,670.272 646.387,678.704 \n",
       "  652.153,687.137 657.919,695.569 663.685,704.001 669.451,712.433 675.217,720.865 680.983,729.297 686.749,737.729 692.515,746.161 698.281,754.593 704.048,763.025 \n",
       "  709.814,771.457 715.58,779.89 721.346,788.322 727.112,796.754 732.878,805.186 738.644,813.618 744.41,822.05 750.176,830.482 755.942,838.914 761.708,847.346 \n",
       "  767.474,855.778 773.24,864.21 779.007,872.643 784.773,881.075 790.539,889.507 796.305,897.939 802.071,906.371 807.837,914.803 813.603,923.235 819.369,931.667 \n",
       "  825.135,940.099 830.901,948.531 836.667,956.963 842.433,965.396 848.2,973.828 853.966,982.26 859.732,990.692 865.498,999.124 871.264,1007.56 877.03,1015.99 \n",
       "  882.796,1024.42 888.562,1032.85 894.328,1041.28 900.094,1049.72 905.86,1058.15 911.626,1066.58 917.392,1075.01 923.159,1083.44 928.925,1091.88 934.691,1100.31 \n",
       "  940.457,1108.74 946.223,1117.17 951.989,1125.61 957.755,1134.04 963.521,1142.47 969.287,1150.9 975.053,1159.33 980.819,1167.77 986.585,1176.2 992.351,1184.63 \n",
       "  998.118,1193.06 1003.88,1201.49 1009.65,1209.93 1015.42,1218.36 1021.18,1226.79 1026.95,1235.22 1032.71,1243.65 1038.48,1252.09 1044.25,1260.52 1050.01,1268.95 \n",
       "  1055.78,1277.38 1061.54,1285.81 1067.31,1294.25 1073.08,1302.68 1078.84,1311.11 1084.61,1319.54 1090.37,1327.98 1096.14,1336.41 1101.91,1344.84 \n",
       "  \"/>\n",
       "<polyline clip-path=\"url(#clip7903)\" style=\"stroke:#3da44d; stroke-width:4; stroke-opacity:1; fill:none\" points=\"\n",
       "  248.527,88.6777 254.293,89.3315 260.059,90.4124 265.825,91.9133 271.592,93.827 277.358,96.1465 283.124,98.8645 288.89,101.974 294.656,105.468 300.422,109.339 \n",
       "  306.188,113.579 311.954,118.183 317.72,123.143 323.486,128.451 329.252,134.1 335.018,140.084 340.785,146.395 346.551,153.026 352.317,159.969 358.083,167.219 \n",
       "  363.849,174.767 369.615,182.606 375.381,190.73 381.147,199.131 386.913,207.802 392.679,216.736 398.445,225.926 404.211,235.364 409.977,245.043 415.744,254.957 \n",
       "  421.51,265.098 427.276,275.46 433.042,286.034 438.808,296.813 444.574,307.792 450.34,318.962 456.106,330.316 461.872,341.847 467.638,353.549 473.404,365.413 \n",
       "  479.17,377.433 484.936,389.602 490.703,401.912 496.469,414.356 502.235,426.928 508.001,439.62 513.767,452.424 519.533,465.335 525.299,478.344 531.065,491.444 \n",
       "  536.831,504.629 542.597,517.891 548.363,531.223 554.129,544.618 559.896,558.069 565.662,571.568 571.428,585.109 577.194,598.684 582.96,612.287 588.726,625.909 \n",
       "  594.492,639.545 600.258,653.186 606.024,666.826 611.79,680.458 617.556,694.073 623.322,707.666 629.088,721.229 634.855,734.755 640.621,748.237 646.387,761.668 \n",
       "  652.153,775.04 657.919,788.346 663.685,801.58 669.451,814.733 675.217,827.8 680.983,840.772 686.749,853.643 692.515,866.406 698.281,879.053 704.048,891.577 \n",
       "  709.814,903.971 715.58,916.229 721.346,928.342 727.112,940.304 732.878,952.107 738.644,963.745 744.41,975.21 750.176,986.495 755.942,997.593 761.708,1008.5 \n",
       "  767.474,1019.2 773.24,1029.69 779.007,1039.97 784.773,1050.03 790.539,1059.87 796.305,1069.5 802.071,1078.91 807.837,1088.11 813.603,1097.11 819.369,1105.9 \n",
       "  825.135,1114.48 830.901,1122.87 836.667,1131.05 842.433,1139.04 848.2,1146.84 853.966,1154.44 859.732,1161.86 865.498,1169.09 871.264,1176.13 877.03,1182.99 \n",
       "  882.796,1189.68 888.562,1196.18 894.328,1202.51 900.094,1208.67 905.86,1214.66 911.626,1220.48 917.392,1226.14 923.159,1231.63 928.925,1236.96 934.691,1242.14 \n",
       "  940.457,1247.15 946.223,1252.02 951.989,1256.73 957.755,1261.3 963.521,1265.72 969.287,1269.99 975.053,1274.12 980.819,1278.12 986.585,1281.98 992.351,1285.7 \n",
       "  998.118,1289.29 1003.88,1292.75 1009.65,1296.09 1015.42,1299.3 1021.18,1302.39 1026.95,1305.35 1032.71,1308.2 1038.48,1310.94 1044.25,1313.56 1050.01,1316.07 \n",
       "  1055.78,1318.47 1061.54,1320.77 1067.31,1322.96 1073.08,1325.06 1078.84,1327.05 1084.61,1328.95 1090.37,1330.75 1096.14,1332.47 1101.91,1334.09 1107.67,1335.63 \n",
       "  1113.44,1337.08 1119.21,1338.45 1124.97,1339.74 1130.74,1340.95 1136.5,1342.09 1142.27,1343.16 1148.04,1344.15 1153.8,1345.08 1159.57,1345.95 1165.33,1346.75 \n",
       "  1171.1,1347.49 1176.87,1348.17 1182.63,1348.79 1188.4,1349.37 1194.16,1349.89 1199.93,1350.36 1205.7,1350.79 1211.46,1351.17 1217.23,1351.51 1222.99,1351.81 \n",
       "  1228.76,1352.08 1234.53,1352.31 1240.29,1352.51 1246.06,1352.68 1251.83,1352.82 1257.59,1352.94 1263.36,1353.03 1269.12,1353.11 1274.89,1353.17 1280.66,1353.21 \n",
       "  1286.42,1353.24 1292.19,1353.26 1297.95,1353.27 1303.72,1353.27 1309.49,1353.27 \n",
       "  \"/>\n",
       "<polyline clip-path=\"url(#clip7903)\" style=\"stroke:#c271d2; stroke-width:4; stroke-opacity:1; fill:none\" points=\"\n",
       "  248.527,88.6379 254.293,89.1771 260.059,90.0753 265.825,91.332 271.592,92.9464 277.358,94.9177 283.124,97.2444 288.89,99.9254 294.656,102.959 300.422,106.343 \n",
       "  306.188,110.076 311.954,114.155 317.72,118.578 323.486,123.342 329.252,128.445 335.018,133.882 340.785,139.652 346.551,145.75 352.317,152.173 358.083,158.917 \n",
       "  363.849,165.978 369.615,173.351 375.381,181.032 381.147,189.017 386.913,197.301 392.679,205.879 398.445,214.745 404.211,223.895 409.977,233.322 415.744,243.023 \n",
       "  421.51,252.989 427.276,263.217 433.042,273.699 438.808,284.43 444.574,295.403 450.34,306.612 456.106,318.05 461.872,329.71 467.638,341.587 473.404,353.672 \n",
       "  479.17,365.959 484.936,378.441 490.703,391.111 496.469,403.961 502.235,416.984 508.001,430.173 513.767,443.519 519.533,457.017 525.299,470.657 531.065,484.432 \n",
       "  536.831,498.335 542.597,512.358 548.363,526.493 554.129,540.732 559.896,555.068 565.662,569.492 571.428,583.997 577.194,598.574 582.96,613.217 588.726,627.916 \n",
       "  594.492,642.665 600.258,657.455 606.024,672.278 611.79,687.128 617.556,701.995 623.322,716.873 629.088,731.753 634.855,746.628 640.621,761.491 646.387,776.334 \n",
       "  652.153,791.149 657.919,805.929 663.685,820.668 669.451,835.357 675.217,849.989 680.983,864.558 686.749,879.057 692.515,893.478 698.281,907.816 704.048,922.062 \n",
       "  709.814,936.212 715.58,950.258 721.346,964.194 727.112,978.015 732.878,991.713 738.644,1005.28 744.41,1018.72 750.176,1032.02 755.942,1045.17 761.708,1058.18 \n",
       "  767.474,1071.02 773.24,1083.71 779.007,1096.24 784.773,1108.59 790.539,1120.77 796.305,1132.77 802.071,1144.59 807.837,1156.22 813.603,1167.66 819.369,1178.9 \n",
       "  825.135,1189.95 830.901,1200.8 836.667,1211.44 842.433,1221.87 848.2,1232.1 853.966,1242.11 859.732,1251.9 865.498,1261.48 871.264,1270.83 877.03,1279.97 \n",
       "  882.796,1288.88 888.562,1297.56 894.328,1306.02 900.094,1314.25 905.86,1322.25 911.626,1330.02 917.392,1337.56 923.159,1344.87 928.925,1351.94 934.691,1358.79 \n",
       "  940.457,1365.4 946.223,1371.78 951.989,1377.93 957.755,1383.84 963.521,1389.53 969.287,1394.99 975.053,1400.22 980.819,1405.22 986.585,1409.99 992.351,1414.54 \n",
       "  998.118,1418.86 1003.88,1422.97 1009.65,1426.85 1015.42,1430.51 1021.18,1433.96 1026.95,1437.2 1032.71,1440.22 1038.48,1443.04 1044.25,1445.65 1050.01,1448.05 \n",
       "  1055.78,1450.26 1061.54,1452.26 1067.31,1454.08 1073.08,1455.7 1078.84,1457.13 1084.61,1458.38 1090.37,1459.45 1096.14,1460.34 1101.91,1461.06 1107.67,1461.6 \n",
       "  1113.44,1461.98 1119.21,1462.2 1124.97,1462.26 1130.74,1462.17 1136.5,1461.92 1142.27,1461.53 1148.04,1461 1153.8,1460.32 1159.57,1459.52 1165.33,1458.59 \n",
       "  1171.1,1457.53 1176.87,1456.35 1182.63,1455.05 1188.4,1453.65 1194.16,1452.13 1199.93,1450.52 1205.7,1448.8 1211.46,1447 1217.23,1445.1 1222.99,1443.12 \n",
       "  1228.76,1441.06 1234.53,1438.92 1240.29,1436.71 1246.06,1434.44 1251.83,1432.1 1257.59,1429.7 1263.36,1427.26 1269.12,1424.76 1274.89,1422.22 1280.66,1419.63 \n",
       "  1286.42,1417.01 1292.19,1414.36 1297.95,1411.68 1303.72,1408.97 1309.49,1406.25 1315.25,1403.51 1321.02,1400.75 1326.78,1397.99 1332.55,1395.23 1338.32,1392.46 \n",
       "  1344.08,1389.69 1349.85,1386.93 1355.61,1384.18 1361.38,1381.45 1367.15,1378.73 1372.91,1376.03 1378.68,1373.35 1384.44,1370.7 1390.21,1368.07 1395.98,1365.48 \n",
       "  1401.74,1362.92 1407.51,1360.4 1413.28,1357.92 1419.04,1355.47 1424.81,1353.08 1430.57,1350.73 1436.34,1348.43 1442.11,1346.18 1447.87,1343.98 1453.64,1341.84 \n",
       "  1459.4,1339.75 1465.17,1337.72 1470.94,1335.76 1476.7,1333.85 1482.47,1332.01 1488.23,1330.23 1494,1328.51 1499.77,1326.86 1505.53,1325.28 1511.3,1323.77 \n",
       "  1517.06,1322.32 1522.83,1320.95 1528.6,1319.64 1534.36,1318.41 1540.13,1317.24 1545.9,1316.15 1551.66,1315.13 1557.43,1314.18 1563.19,1313.3 1568.96,1312.5 \n",
       "  1574.73,1311.76 1580.49,1311.1 1586.26,1310.5 1592.02,1309.98 1597.79,1309.53 1603.56,1309.15 1609.32,1308.83 1615.09,1308.58 1620.85,1308.4 1626.62,1308.29 \n",
       "  1632.39,1308.24 1638.15,1308.26 1643.92,1308.34 1649.68,1308.48 1655.45,1308.68 1661.22,1308.94 1666.98,1309.26 1672.75,1309.64 1678.51,1310.07 1684.28,1310.55 \n",
       "  1690.05,1311.09 1695.81,1311.68 1701.58,1312.32 1707.35,1313.01 1713.11,1313.74 1718.88,1314.52 1724.64,1315.34 1730.41,1316.2 1736.18,1317.1 1741.94,1318.03 \n",
       "  1747.71,1319.01 1753.47,1320.01 1759.24,1321.05 1765.01,1322.12 1770.77,1323.21 1776.54,1324.33 1782.3,1325.48 1788.07,1326.64 1793.84,1327.83 1799.6,1329.04 \n",
       "  1805.37,1330.26 1811.13,1331.5 1816.9,1332.75 1822.67,1334.01 1828.43,1335.28 1834.2,1336.55 1839.97,1337.83 1845.73,1339.12 1851.5,1340.4 1857.26,1341.69 \n",
       "  1863.03,1342.98 1868.8,1344.26 1874.56,1345.53 1880.33,1346.8 1886.09,1348.06 1891.86,1349.31 1897.63,1350.55 1903.39,1351.77 1909.16,1352.98 1914.92,1354.18 \n",
       "  1920.69,1355.35 1926.46,1356.51 1932.22,1357.65 1937.99,1358.76 1943.75,1359.85 1949.52,1360.92 1955.29,1361.97 1961.05,1362.98 1966.82,1363.97 1972.59,1364.93 \n",
       "  1978.35,1365.87 1984.12,1366.77 1989.88,1367.64 1995.65,1368.48 2001.42,1369.29 2007.18,1370.06 2012.95,1370.8 2018.71,1371.51 2024.48,1372.18 2030.25,1372.81 \n",
       "  2036.01,1373.41 2041.78,1373.98 2047.54,1374.5 2053.31,1374.99 2059.08,1375.45 2064.84,1375.86 2070.61,1376.24 2076.37,1376.59 2082.14,1376.89 2087.91,1377.16 \n",
       "  2093.67,1377.39 2099.44,1377.59 2105.2,1377.74 2110.97,1377.86 2116.74,1377.95 2122.5,1378 2128.27,1378.01 2134.04,1377.99 2139.8,1377.93 2145.57,1377.84 \n",
       "  2151.33,1377.72 2157.1,1377.56 2162.87,1377.37 2168.63,1377.15 2174.4,1376.9 2180.16,1376.61 2185.93,1376.3 2191.7,1375.96 2197.46,1375.59 2203.23,1375.19 \n",
       "  2208.99,1374.77 2214.76,1374.32 2220.53,1373.85 2226.29,1373.35 2232.06,1372.83 2237.82,1372.29 2243.59,1371.73 2249.36,1371.15 2255.12,1370.55 2260.89,1369.93 \n",
       "  \n",
       "  \"/>\n",
       "<polygon clip-path=\"url(#clip7901)\" points=\"\n",
       "1610.66,433.164 2249.26,433.164 2249.26,130.764 1610.66,130.764 \n",
       "  \" fill=\"#ffffff\" fill-opacity=\"1\"/>\n",
       "<polyline clip-path=\"url(#clip7901)\" style=\"stroke:#000000; stroke-width:4; stroke-opacity:1; fill:none\" points=\"\n",
       "  1610.66,433.164 2249.26,433.164 2249.26,130.764 1610.66,130.764 1610.66,433.164 \n",
       "  \"/>\n",
       "<polyline clip-path=\"url(#clip7901)\" style=\"stroke:#009af9; stroke-width:4; stroke-opacity:1; fill:none\" points=\"\n",
       "  1634.66,191.244 1778.66,191.244 \n",
       "  \"/>\n",
       "<g clip-path=\"url(#clip7901)\">\n",
       "<text style=\"fill:#000000; fill-opacity:1; font-family:Arial,Helvetica Neue,Helvetica,sans-serif; font-size:48px; text-anchor:start;\" transform=\"rotate(0, 1802.66, 208.744)\" x=\"1802.66\" y=\"208.744\">Truncated</text>\n",
       "</g>\n",
       "<polyline clip-path=\"url(#clip7901)\" style=\"stroke:#e26f46; stroke-width:4; stroke-opacity:1; fill:none\" points=\"\n",
       "  1634.66,251.724 1778.66,251.724 \n",
       "  \"/>\n",
       "<g clip-path=\"url(#clip7901)\">\n",
       "<text style=\"fill:#000000; fill-opacity:1; font-family:Arial,Helvetica Neue,Helvetica,sans-serif; font-size:48px; text-anchor:start;\" transform=\"rotate(0, 1802.66, 269.224)\" x=\"1802.66\" y=\"269.224\">Bartlett</text>\n",
       "</g>\n",
       "<polyline clip-path=\"url(#clip7901)\" style=\"stroke:#3da44d; stroke-width:4; stroke-opacity:1; fill:none\" points=\"\n",
       "  1634.66,312.204 1778.66,312.204 \n",
       "  \"/>\n",
       "<g clip-path=\"url(#clip7901)\">\n",
       "<text style=\"fill:#000000; fill-opacity:1; font-family:Arial,Helvetica Neue,Helvetica,sans-serif; font-size:48px; text-anchor:start;\" transform=\"rotate(0, 1802.66, 329.704)\" x=\"1802.66\" y=\"329.704\">Parzen</text>\n",
       "</g>\n",
       "<polyline clip-path=\"url(#clip7901)\" style=\"stroke:#c271d2; stroke-width:4; stroke-opacity:1; fill:none\" points=\"\n",
       "  1634.66,372.684 1778.66,372.684 \n",
       "  \"/>\n",
       "<g clip-path=\"url(#clip7901)\">\n",
       "<text style=\"fill:#000000; fill-opacity:1; font-family:Arial,Helvetica Neue,Helvetica,sans-serif; font-size:48px; text-anchor:start;\" transform=\"rotate(0, 1802.66, 390.184)\" x=\"1802.66\" y=\"390.184\">Quadratic Spectral</text>\n",
       "</g>\n",
       "</svg>\n"
      ]
     },
     "execution_count": 7,
     "metadata": {},
     "output_type": "execute_result"
    }
   ],
   "source": [
    "k1 = kernelweight(\"truncated\", x) \n",
    "k2 = kernelweight(\"bartlett\", x) \n",
    "k3 = kernelweight(\"parzen\", x) \n",
    "k4 = kernelweight(\"quadratic-spectral\", x) \n",
    "\n",
    "plot(x, [k1 k2 k3 k4],\n",
    "    label = [\"Truncated\", \"Bartlett\",\n",
    "            \"Parzen\", \"Quadratic Spectral\"])"
   ]
  },
  {
   "cell_type": "markdown",
   "metadata": {},
   "source": [
    "<a id='section2'></a>\n",
    "## (2) Linear models"
   ]
  },
  {
   "cell_type": "markdown",
   "metadata": {},
   "source": [
    "<a id='section21'></a>\n",
    "#### (2.1) OLS as GMM"
   ]
  },
  {
   "cell_type": "code",
   "execution_count": 8,
   "metadata": {},
   "outputs": [],
   "source": [
    "include(\"src/NW.jl\")\n",
    "using Statistics: mean\n",
    "using Distributions: Normal, Chisq, ccdf\n",
    "using LinearAlgebra: qr, diag, Diagonal\n",
    "using Random\n",
    "\n",
    "Random.seed!(123)\n",
    "\n",
    "T = 100\n",
    "K = 3\n",
    "θ = [0.4; 0.6; 0.8]\n",
    "X = rand(Normal(), T, K)\n",
    "e = rand(Normal(), T)\n",
    "\n",
    "y = X * θ + e;"
   ]
  },
  {
   "cell_type": "markdown",
   "metadata": {},
   "source": [
    "The GMM estimator is the familiar LS estimator\n",
    "\n",
    "$\\theta =(X'X)^{-1} X'y$"
   ]
  },
  {
   "cell_type": "code",
   "execution_count": 9,
   "metadata": {},
   "outputs": [
    {
     "data": {
      "text/plain": [
       "3-element Array{Float64,1}:\n",
       " 0.5611580939913476\n",
       " 0.5118736249879364\n",
       " 0.7940476221997095"
      ]
     },
     "execution_count": 9,
     "metadata": {},
     "output_type": "execute_result"
    }
   ],
   "source": [
    "θhat = inv(X'X)X'*y"
   ]
  },
  {
   "cell_type": "markdown",
   "metadata": {},
   "source": [
    "Using the same notation as in the slides (Econometrics Review p. 42):"
   ]
  },
  {
   "cell_type": "code",
   "execution_count": 10,
   "metadata": {},
   "outputs": [
    {
     "data": {
      "text/plain": [
       "3-element Array{Float64,1}:\n",
       " 0.5611580939913478\n",
       " 0.5118736249879364\n",
       " 0.7940476221997097"
      ]
     },
     "execution_count": 10,
     "metadata": {},
     "output_type": "execute_result"
    }
   ],
   "source": [
    "inv(mean([X[t, :]X[t, :]' for t in 1:T])) * mean([X[t, :]y[t] for t in 1:T])"
   ]
  },
  {
   "cell_type": "markdown",
   "metadata": {},
   "source": [
    "A quick digression: in practice this is obtained by solving the system \n",
    "\n",
    "$X'X\\theta = X'y$\n",
    "\n",
    "through a factorization of $X'X$, most commonly the [QR](https://en.wikipedia.org/wiki/QR_decomposition) decomposition: \n",
    "\n",
    "$X'X = QR$, where Q is an orthogonal matrix (i.e. no inverse is needed) leading to the following:\n",
    "\n",
    "$R\\theta = Q'X'y$\n",
    "\n",
    "Where R is upper triangular, which means $\\theta$ can be obtained by backward substitution:\n",
    "\n"
   ]
  },
  {
   "cell_type": "code",
   "execution_count": 11,
   "metadata": {},
   "outputs": [],
   "source": [
    "QR = qr(X'X)\n",
    "Qr = QR.Q\n",
    "Rr = QR.R;"
   ]
  },
  {
   "cell_type": "markdown",
   "metadata": {},
   "source": [
    "The rhs of the equation:"
   ]
  },
  {
   "cell_type": "code",
   "execution_count": 12,
   "metadata": {},
   "outputs": [
    {
     "data": {
      "text/plain": [
       "3-element Array{Float64,1}:\n",
       " -50.42575307525098\n",
       " -37.99542306275191\n",
       "  84.29857896560684"
      ]
     },
     "execution_count": 12,
     "metadata": {},
     "output_type": "execute_result"
    }
   ],
   "source": [
    "Qr'X'y"
   ]
  },
  {
   "cell_type": "markdown",
   "metadata": {},
   "source": [
    "And the lhs:"
   ]
  },
  {
   "cell_type": "code",
   "execution_count": 13,
   "metadata": {},
   "outputs": [
    {
     "data": {
      "text/plain": [
       "3×3 Array{Float64,2}:\n",
       " -127.658  -11.7642   34.2955\n",
       "    0.0    -99.3057   16.166 \n",
       "    0.0      0.0     106.163 "
      ]
     },
     "execution_count": 13,
     "metadata": {},
     "output_type": "execute_result"
    }
   ],
   "source": [
    "Rr"
   ]
  },
  {
   "cell_type": "markdown",
   "metadata": {},
   "source": [
    "Which means that $\\hat \\theta_3$ is"
   ]
  },
  {
   "cell_type": "code",
   "execution_count": 14,
   "metadata": {},
   "outputs": [
    {
     "data": {
      "text/plain": [
       "0.7940485759219957"
      ]
     },
     "execution_count": 14,
     "metadata": {},
     "output_type": "execute_result"
    }
   ],
   "source": [
    "84.29857896560684 / 106.163 "
   ]
  },
  {
   "cell_type": "markdown",
   "metadata": {},
   "source": [
    "Which is used to solve for $\\hat \\theta_2$, etc. Since this is a common procedure, a shortcut is the backslash operator `\\`:"
   ]
  },
  {
   "cell_type": "code",
   "execution_count": 15,
   "metadata": {},
   "outputs": [
    {
     "data": {
      "text/plain": [
       "3-element Array{Float64,1}:\n",
       " 0.5611580939913474\n",
       " 0.5118736249879368\n",
       " 0.7940476221997095"
      ]
     },
     "execution_count": 15,
     "metadata": {},
     "output_type": "execute_result"
    }
   ],
   "source": [
    "X \\ y"
   ]
  },
  {
   "cell_type": "markdown",
   "metadata": {},
   "source": [
    "Why would this be necessary: an example where $X'X$ is close to singular:"
   ]
  },
  {
   "cell_type": "code",
   "execution_count": 16,
   "metadata": {},
   "outputs": [],
   "source": [
    "tmp = X[:, 2]\n",
    "X[:, 2] = X[:, 1] * 1e-6\n",
    "y = X * θ + e;"
   ]
  },
  {
   "cell_type": "code",
   "execution_count": 17,
   "metadata": {},
   "outputs": [
    {
     "data": {
      "text/plain": [
       "3-element Array{Float64,1}:\n",
       "      1.1796348172207438\n",
       " 703237.7227102472      \n",
       "      0.8007093681191334"
      ]
     },
     "execution_count": 17,
     "metadata": {},
     "output_type": "execute_result"
    }
   ],
   "source": [
    "# The inverse solution:\n",
    "inv(X'X)X'*y"
   ]
  },
  {
   "cell_type": "code",
   "execution_count": 18,
   "metadata": {},
   "outputs": [
    {
     "data": {
      "text/plain": [
       "3-element Array{Float64,1}:\n",
       " 0.5579839604186029  \n",
       " 5.579839604186028e-7\n",
       " 0.8007093681191332  "
      ]
     },
     "execution_count": 18,
     "metadata": {},
     "output_type": "execute_result"
    }
   ],
   "source": [
    "# The linear system solution obtained with a numerically \n",
    "# stable factorization:\n",
    "X \\ y"
   ]
  },
  {
   "cell_type": "code",
   "execution_count": 19,
   "metadata": {},
   "outputs": [],
   "source": [
    "X[:, 2] = tmp\n",
    "y = X * θ + e;"
   ]
  },
  {
   "cell_type": "markdown",
   "metadata": {},
   "source": [
    "#### (2.2) Standard errors"
   ]
  },
  {
   "cell_type": "code",
   "execution_count": 20,
   "metadata": {},
   "outputs": [
    {
     "data": {
      "text/plain": [
       "3-element Array{Float64,1}:\n",
       " 0.0849938980566576 \n",
       " 0.0949726310242743 \n",
       " 0.09089056626918658"
      ]
     },
     "execution_count": 20,
     "metadata": {},
     "output_type": "execute_result"
    }
   ],
   "source": [
    "# With OLS assumptions:\n",
    "Σxx = X'X/T\n",
    "D = - Σxx;\n",
    "\n",
    "ε = y - X * θhat\n",
    "σ² = mean(ε.^2)\n",
    "\n",
    "S = σ² * Σxx\n",
    "\n",
    "vcv_normal = inv(D' * inv(S) * D) / T \n",
    "\n",
    "sqrt.(diag(vcv_normal))"
   ]
  },
  {
   "cell_type": "code",
   "execution_count": 21,
   "metadata": {},
   "outputs": [
    {
     "data": {
      "text/plain": [
       "3-element Array{Float64,1}:\n",
       " 0.08499389805665758\n",
       " 0.0949726310242743 \n",
       " 0.09089056626918658"
      ]
     },
     "execution_count": 21,
     "metadata": {},
     "output_type": "execute_result"
    }
   ],
   "source": [
    "# Which simplifies to the familiar OLS SE formula:\n",
    "sqrt.(diag(σ² * inv(X'X)))"
   ]
  },
  {
   "cell_type": "code",
   "execution_count": 22,
   "metadata": {},
   "outputs": [
    {
     "data": {
      "text/plain": [
       "3-element Array{Float64,1}:\n",
       " 0.06975507867516514\n",
       " 0.10370646726550065\n",
       " 0.09123132606328757"
      ]
     },
     "execution_count": 22,
     "metadata": {},
     "output_type": "execute_result"
    }
   ],
   "source": [
    "# Heteroscedasticity robust (White) SEs\n",
    "lag = 0\n",
    "S = NW(ε .* X, lag) # From `src/NW.jl`\n",
    "# Same as: S = X'Diagonal(ε.^2)X / T\n",
    "\n",
    "vcv_white = inv(D' * inv(S) * D) / T \n",
    "sqrt.(diag(vcv_white))"
   ]
  },
  {
   "cell_type": "code",
   "execution_count": 23,
   "metadata": {},
   "outputs": [
    {
     "data": {
      "text/plain": [
       "3-element Array{Float64,1}:\n",
       " 0.0699864330646872 \n",
       " 0.10622005436643957\n",
       " 0.09967347868596375"
      ]
     },
     "execution_count": 23,
     "metadata": {},
     "output_type": "execute_result"
    }
   ],
   "source": [
    "# Newey and West SEs, one lag\n",
    "lag = 1\n",
    "S = NW(ε .* X, 1)\n",
    "\n",
    "vcv_nw = inv(D' * inv(S) * D) / T \n",
    "sqrt.(diag(vcv_nw))"
   ]
  },
  {
   "cell_type": "markdown",
   "metadata": {},
   "source": [
    "#### (2.3) Wald test"
   ]
  },
  {
   "cell_type": "markdown",
   "metadata": {},
   "source": [
    "Testing $\\theta_1 = 0$"
   ]
  },
  {
   "cell_type": "code",
   "execution_count": 24,
   "metadata": {},
   "outputs": [
    {
     "data": {
      "text/plain": [
       "1.0739492309441184e-15"
      ]
     },
     "execution_count": 24,
     "metadata": {},
     "output_type": "execute_result"
    }
   ],
   "source": [
    "R = [1 0 0]\n",
    "r = [0]\n",
    "\n",
    "wald = (r - R * θhat)' * inv(R * vcv_nw * R') * (r - R * θhat)\n",
    "\n",
    "ccdf(Chisq(length(r)), wald)"
   ]
  },
  {
   "cell_type": "markdown",
   "metadata": {},
   "source": [
    "<a id='section22'></a>\n",
    "#### (2.4) SURE\n",
    "Jointly estimating multiple linear models (N) with the same K regressors"
   ]
  },
  {
   "cell_type": "code",
   "execution_count": 25,
   "metadata": {},
   "outputs": [
    {
     "data": {
      "text/plain": [
       "6-element Array{Float64,1}:\n",
       " 0.3735487753704459\n",
       " 1.370614740195365 \n",
       " 0.63512311772765  \n",
       " 1.591882797707041 \n",
       " 0.8519109324658157\n",
       " 1.7284766205987312"
      ]
     },
     "execution_count": 25,
     "metadata": {},
     "output_type": "execute_result"
    }
   ],
   "source": [
    "include(\"src/NW.jl\")\n",
    "using Distributions: Normal, Chisq, ccdf\n",
    "using LinearAlgebra: diag, Diagonal\n",
    "using Random\n",
    "\n",
    "Random.seed!(123)\n",
    "\n",
    "T = 1000\n",
    "K = 3\n",
    "N = 2\n",
    "θ₁ = [0.4; 0.6; 0.8]\n",
    "θ₂ = [1.4; 1.6; 1.8]\n",
    "Θ = [θ₁';  θ₂']\n",
    "X = rand(Normal(), T, K)\n",
    "e = rand(Normal(), T, N)\n",
    "\n",
    "Y = X * Θ' + e\n",
    "\n",
    "# Stacked estimation\n",
    "Σxx = kron(X'X/T, Diagonal(ones(N)))\n",
    "Σxy = vec(Y'X/T)\n",
    "\n",
    "vecΘ = inv(Σxx) * Σxy"
   ]
  },
  {
   "cell_type": "code",
   "execution_count": 26,
   "metadata": {},
   "outputs": [
    {
     "data": {
      "text/plain": [
       "6-element reshape(::LinearAlgebra.Adjoint{Float64,Array{Float64,2}}, 6) with eltype Float64:\n",
       " 0.37354877537044595\n",
       " 1.370614740195364  \n",
       " 0.6351231177276497 \n",
       " 1.5918827977070409 \n",
       " 0.8519109324658156 \n",
       " 1.7284766205987325 "
      ]
     },
     "execution_count": 26,
     "metadata": {},
     "output_type": "execute_result"
    }
   ],
   "source": [
    "# Same as\n",
    "vec((X \\ Y)')"
   ]
  },
  {
   "cell_type": "code",
   "execution_count": 27,
   "metadata": {},
   "outputs": [
    {
     "data": {
      "text/plain": [
       "2×3 Array{Float64,2}:\n",
       " 0.373549  0.635123  0.851911\n",
       " 1.37061   1.59188   1.72848 "
      ]
     },
     "execution_count": 27,
     "metadata": {},
     "output_type": "execute_result"
    }
   ],
   "source": [
    "Θhat = reshape(vecΘ, N, K)"
   ]
  },
  {
   "cell_type": "markdown",
   "metadata": {},
   "source": [
    "#### (2.5) Standard errors"
   ]
  },
  {
   "cell_type": "code",
   "execution_count": 28,
   "metadata": {},
   "outputs": [
    {
     "data": {
      "text/plain": [
       "12-element Array{Float64,1}:\n",
       " 0.03177781442948086 \n",
       " 0.03304868499596468 \n",
       " 0.03177781442948086 \n",
       " 0.03304868499596468 \n",
       " 0.03216372100230665 \n",
       " 0.033450024892750035\n",
       " 0.03216372100230665 \n",
       " 0.033450024892750035\n",
       " 0.033327727187850584\n",
       " 0.03466058246097938 \n",
       " 0.033327727187850584\n",
       " 0.03466058246097938 "
      ]
     },
     "execution_count": 28,
     "metadata": {},
     "output_type": "execute_result"
    }
   ],
   "source": [
    "# With OLS assumptions:\n",
    "D = kron(-Σxx, Diagonal(ones(N)))\n",
    "ε = Y - X * Θhat'\n",
    "Σεε = ε'ε / T\n",
    "\n",
    "S = kron(Σxx, Σεε)\n",
    "vcv_normal = inv(D' * inv(S) * D) / T \n",
    "# Simplifies to\n",
    "# vcv_normal = kron(inv(Σxx)/T, Σεε)\n",
    "se_normal = sqrt.(diag(vcv_normal))"
   ]
  },
  {
   "cell_type": "code",
   "execution_count": 29,
   "metadata": {},
   "outputs": [
    {
     "data": {
      "text/plain": [
       "2×3 Array{Float64,2}:\n",
       " 0.0317778  0.0321637  0.0333277\n",
       " 0.0330487  0.03345    0.0346606"
      ]
     },
     "execution_count": 29,
     "metadata": {},
     "output_type": "execute_result"
    }
   ],
   "source": [
    "reshape(se_normal, N*N, K)[1:N,:]"
   ]
  },
  {
   "cell_type": "code",
   "execution_count": 30,
   "metadata": {},
   "outputs": [
    {
     "data": {
      "text/plain": [
       "2×3 Array{Float64,2}:\n",
       " 0.0310312  0.0347822  0.0330711\n",
       " 0.0327166  0.0344842  0.0327271"
      ]
     },
     "execution_count": 30,
     "metadata": {},
     "output_type": "execute_result"
    }
   ],
   "source": [
    "# Heteroscedasticity robust (White) SEs\n",
    "lag = 0\n",
    "D = kron(Diagonal(ones(N)), -X'X/T)\n",
    "m = kron(ones(N)', X) .* reshape(repeat(ε, K), T, N*K)\n",
    "S = NW(m, lag) # From `src/NW.jl`\n",
    "vcv_white = inv(D' * inv(S) * D) / T\n",
    "\n",
    "se_white = sqrt.(diag(vcv_white))\n",
    "reshape(se_white, N, K)"
   ]
  },
  {
   "cell_type": "code",
   "execution_count": 31,
   "metadata": {},
   "outputs": [
    {
     "data": {
      "text/plain": [
       "2×3 Array{Float64,2}:\n",
       " 0.0308449  0.035366   0.0331532\n",
       " 0.0331029  0.0344198  0.0330897"
      ]
     },
     "execution_count": 31,
     "metadata": {},
     "output_type": "execute_result"
    }
   ],
   "source": [
    "# Newey and West SEs, one lag\n",
    "lag = 1\n",
    "S = NW(m, lag) # From `src/NW.jl`\n",
    "vcv_nw = inv(D' * inv(S) * D) / T\n",
    "\n",
    "se_nw = sqrt.(diag(vcv_nw))\n",
    "reshape(se_nw, N, K)"
   ]
  },
  {
   "cell_type": "markdown",
   "metadata": {},
   "source": [
    "#### (2.6) Wald test\n",
    "Testing $\\theta^1_1 = \\theta^2_1 = 0$"
   ]
  },
  {
   "cell_type": "code",
   "execution_count": 32,
   "metadata": {},
   "outputs": [
    {
     "data": {
      "text/plain": [
       "0.0"
      ]
     },
     "execution_count": 32,
     "metadata": {},
     "output_type": "execute_result"
    }
   ],
   "source": [
    "R = [1 0 0 0 0 0;\n",
    "     0 1 0 0 0 0]\n",
    "r = [0; 0]\n",
    "\n",
    "wald = (r - R * vecΘ)' * inv(R * vcv_nw * R') * (r - R * vecΘ)\n",
    "ccdf(Chisq(length(r)), wald)"
   ]
  },
  {
   "cell_type": "markdown",
   "metadata": {},
   "source": [
    "<a id='section3'></a>\n",
    "## (3) Hansen-Singleton\n",
    "Estimation with $q > k$: 2-step and continuous updating \n",
    "\n",
    "Example from Assignment 3.3: estimate $\\delta$ and $\\gamma$, with random data (notation same as in slides)"
   ]
  },
  {
   "cell_type": "code",
   "execution_count": 33,
   "metadata": {},
   "outputs": [
    {
     "data": {
      "text/plain": [
       "1.0360166921758636"
      ]
     },
     "execution_count": 33,
     "metadata": {},
     "output_type": "execute_result"
    }
   ],
   "source": [
    "include(\"src/NW.jl\")\n",
    "using Statistics: mean\n",
    "using Optim: optimize\n",
    "using LinearAlgebra: Diagonal, diag\n",
    "using Distributions: MvNormal, MvLogNormal\n",
    "using ForwardDiff\n",
    "using Random\n",
    "\n",
    "Random.seed!(12)\n",
    "\n",
    "δ = 0.8\n",
    "γ = 0.5\n",
    "vcv = [1 0.2 0\n",
    "       0.2 1 0\n",
    "       0 0 1]\n",
    "avg = vec([(log(δ) + γ^2/2)/γ;\n",
    "            γ*0.2 - 1/2 ;\n",
    "            0])\n",
    "T = 1000\n",
    "x = rand(MvLogNormal(MvNormal(avg, vcv)), T)'\n",
    "Δc = x[:, 1]\n",
    "r = x[:, 2]\n",
    "rf = x[:, 3]\n",
    "\n",
    "# E(δΔc⁻γ R) ≈ 1\n",
    "δ * mean(Δc.^(-γ) .* r)"
   ]
  },
  {
   "cell_type": "code",
   "execution_count": 34,
   "metadata": {},
   "outputs": [],
   "source": [
    "# Data\n",
    "v = [Δc[2:end] r[2:end]]\n",
    "# Instruments\n",
    "z = [ones(T-1) Δc[1:end-1] r[1:end-1] - rf[1:end-1]] ;"
   ]
  },
  {
   "cell_type": "markdown",
   "metadata": {},
   "source": [
    "Define the moment conditions and objective functions"
   ]
  },
  {
   "cell_type": "code",
   "execution_count": 35,
   "metadata": {},
   "outputs": [
    {
     "data": {
      "text/plain": [
       "Q (generic function with 1 method)"
      ]
     },
     "execution_count": 35,
     "metadata": {},
     "output_type": "execute_result"
    }
   ],
   "source": [
    "# The moment conditions, θ = [δ γ]\n",
    "function f(v, z, θ)\n",
    "    δ = θ[1]\n",
    "    γ = θ[2]\n",
    "    Δc = v[:, 1]\n",
    "    R = v[:, 2:end]\n",
    "    \n",
    "    nz = size(z, 2)\n",
    "    nr = size(R, 2)\n",
    "    \n",
    "    # (δΔc^⁻γ R - 1)z\n",
    "    kron(ones(nz)', (δ * Δc.^(-γ) .* R .- 1)) .*\n",
    "        kron(ones(nr)', z)\n",
    "end\n",
    "\n",
    "function g(θ, v, z)\n",
    "    mean(f(v, z, θ), dims=1)\n",
    "end\n",
    "\n",
    "function Q(θ, W, v, z)\n",
    "    (g(θ, v, z) * W * g(θ, v, z)')[1]\n",
    "    # Why [1]: A one-element array is treated\n",
    "    # differently than a scalar\n",
    "end"
   ]
  },
  {
   "cell_type": "markdown",
   "metadata": {},
   "source": [
    "2-step estimation"
   ]
  },
  {
   "cell_type": "code",
   "execution_count": 36,
   "metadata": {},
   "outputs": [
    {
     "data": {
      "text/plain": [
       "2-element Array{Float64,1}:\n",
       " 0.6950242601021548\n",
       " 0.6740912550145396"
      ]
     },
     "execution_count": 36,
     "metadata": {},
     "output_type": "execute_result"
    }
   ],
   "source": [
    "function twostepGMM(θ₀, nwlag, v, z)\n",
    "    k = length(θ₀)\n",
    "    q = size(g(ones(k), v, z), 2)\n",
    "    W₁ = Diagonal(ones(q))\n",
    "    \n",
    "    # First step\n",
    "    θ₁ = optimize(θ -> Q(θ, W₁, v, z), θ₀).minimizer\n",
    "    S₂ = NW(f(v, z, θ₁), nwlag)\n",
    "    W₂ = inv(S₂)\n",
    "    # Second step\n",
    "    θhat = optimize(θ -> Q(θ, W₂, v, z), θ₁).minimizer\n",
    "    S = NW(f(v, z, θhat), nwlag)\n",
    "    \n",
    "    θhat, S\n",
    "end\n",
    "\n",
    "# Starting values\n",
    "θ₀ = ones(2)\n",
    "nwlag = 1\n",
    "\n",
    "θhat, S = twostepGMM(θ₀, nwlag, v, z)\n",
    "θhat"
   ]
  },
  {
   "cell_type": "markdown",
   "metadata": {},
   "source": [
    "Continuous updating estimation (estimate both $\\theta$ and $W$). We can do this by defining a new function where $W$ is defined implicitly by $\\theta$:"
   ]
  },
  {
   "cell_type": "code",
   "execution_count": 37,
   "metadata": {},
   "outputs": [
    {
     "data": {
      "text/plain": [
       "2-element Array{Float64,1}:\n",
       " 0.6684214453198369\n",
       " 0.7324625119719703"
      ]
     },
     "execution_count": 37,
     "metadata": {},
     "output_type": "execute_result"
    }
   ],
   "source": [
    "function continuousGMM(θ₀, nwlag, v, z)\n",
    "    \n",
    "    θhat = optimize(\n",
    "            θ -> Q(θ, inv(NW(f(v, z, θ), nwlag)), v, z),\n",
    "            θ₀).minimizer\n",
    "    \n",
    "    θhat, NW(f(v, z, θhat), nwlag)\n",
    "end\n",
    "\n",
    "θhat, S = continuousGMM(θ₀, nwlag, v, z);\n",
    "θhat"
   ]
  },
  {
   "cell_type": "markdown",
   "metadata": {},
   "source": [
    "Standard errors"
   ]
  },
  {
   "cell_type": "code",
   "execution_count": 38,
   "metadata": {},
   "outputs": [
    {
     "data": {
      "text/plain": [
       "2-element Array{Float64,1}:\n",
       " 0.19439969472023166\n",
       " 0.399099394224834  "
      ]
     },
     "execution_count": 38,
     "metadata": {},
     "output_type": "execute_result"
    }
   ],
   "source": [
    "D = ForwardDiff.jacobian(θ -> g(θ, v, z), θhat)\n",
    "vcv_nw = inv(D' * inv(S) * D) / T\n",
    "\n",
    "sqrt.(diag(vcv_nw))"
   ]
  },
  {
   "cell_type": "markdown",
   "metadata": {},
   "source": [
    "<a id='section4'></a>\n",
    "## (4) Cross section"
   ]
  },
  {
   "cell_type": "code",
   "execution_count": 39,
   "metadata": {},
   "outputs": [],
   "source": [
    "# #Magnus assignment 4 data double check\n",
    "# using DelimitedFiles\n",
    "# d = readdlm(\"../../../Data/FamaFrench5Factors.csv\",';')[2:end, 1:8]\n",
    "# RF = d[:, 8] \n",
    "# Rm = d[:, 3] * 1.0\n",
    "# Y = readdlm(\"../../../Data/FamaFrench5x5.csv\",';')[2:end, 3:27]\n",
    "# Y = Y .- RF\n",
    "# T, N = size(Y)\n",
    "# X = [ones(T) Rm]\n",
    "# K = size(X, 2)"
   ]
  },
  {
   "cell_type": "markdown",
   "metadata": {},
   "source": [
    "The cross section with 10 assets and one factor (a constant is included in all examples): \n",
    "\n",
    "* GRS \n",
    "* Fama-MacBeth\n",
    "* Shanken standard error correction\n",
    "* Joint test of zero pricing errors (GMM)"
   ]
  },
  {
   "cell_type": "code",
   "execution_count": 40,
   "metadata": {},
   "outputs": [
    {
     "data": {
      "text/plain": [
       "2"
      ]
     },
     "execution_count": 40,
     "metadata": {},
     "output_type": "execute_result"
    }
   ],
   "source": [
    "include(\"src/NW.jl\")\n",
    "using Statistics: mean, std\n",
    "using LinearAlgebra: pinv, diag, Diagonal\n",
    "using Distributions: Normal, FDist, Chisq, ccdf\n",
    "using Random\n",
    "\n",
    "Random.seed!(123)\n",
    "\n",
    "# Simulated CAPM \n",
    "T = 500\n",
    "N = 10\n",
    "betas = rand(Normal(), N)\n",
    "Rm = rand(Normal(0.05), T) # The factor\n",
    "Y = Rm .* betas' + rand(Normal(), T, N) # Test assets\n",
    "X = [ones(T) Rm] \n",
    "K = size(X, 2)"
   ]
  },
  {
   "cell_type": "markdown",
   "metadata": {},
   "source": [
    "GRS"
   ]
  },
  {
   "cell_type": "code",
   "execution_count": 41,
   "metadata": {},
   "outputs": [
    {
     "data": {
      "text/plain": [
       "(1.4205913842054843, 0.16769835038081773)"
      ]
     },
     "execution_count": 41,
     "metadata": {},
     "output_type": "execute_result"
    }
   ],
   "source": [
    "B = X \\ Y\n",
    "ε = Y -  X * B\n",
    "\n",
    "F = kron(ones(N)', X) .* reshape(repeat(ε, K), T, N*K)\n",
    "\n",
    "α = B[1, :]\n",
    "Σ = F[:, 1:2:N*2]' * F[:, 1:2:N*2] / T\n",
    "Σf = (X[:, 2] .- mean(X[:, 2]))' * (X[:, 2] .- mean(X[: ,2])) / T\n",
    "\n",
    "SharpeRatioSq = mean(X[:, 2])' * inv(Σf) * mean(X[:, 2])\n",
    "GRS = ((T-N-K+1) / N) * α' * inv(Σ) * α / (1 + SharpeRatioSq)\n",
    "\n",
    "# Test statistic and p-value\n",
    "GRS , ccdf(FDist(N, T-N-K+1), GRS)"
   ]
  },
  {
   "cell_type": "markdown",
   "metadata": {},
   "source": [
    "Fama-MacBeth"
   ]
  },
  {
   "cell_type": "code",
   "execution_count": 42,
   "metadata": {
    "scrolled": true
   },
   "outputs": [
    {
     "data": {
      "text/plain": [
       "1×2 Array{Float64,2}:\n",
       " -0.0230561  0.125899"
      ]
     },
     "execution_count": 42,
     "metadata": {},
     "output_type": "execute_result"
    }
   ],
   "source": [
    "Beta = B[2, :]\n",
    "EHat = Y -  X * B\n",
    "LambdaMat = zeros(T, K)\n",
    "EMat = zeros(T, N)\n",
    "Xt = [ones(N) Beta]\n",
    "for t in 1:T\n",
    "    Yt = Y[t, :]\n",
    "    LambdaMat[t, :] = Xt \\ Yt\n",
    "    EMat[t, :] = Yt - Xt*LambdaMat[t, :]\n",
    "end\n",
    "\n",
    "Lambda = mean(LambdaMat, dims=1)\n",
    "# Which, since the betas are constant, is the same as:\n",
    "# Xt \\ mean(Y, dims=1)'"
   ]
  },
  {
   "cell_type": "markdown",
   "metadata": {},
   "source": [
    "Fama-MacBeth SEs"
   ]
  },
  {
   "cell_type": "code",
   "execution_count": 43,
   "metadata": {},
   "outputs": [
    {
     "data": {
      "text/plain": [
       "1×2 Array{Float64,2}:\n",
       " 0.017099  0.0504892"
      ]
     },
     "execution_count": 43,
     "metadata": {},
     "output_type": "execute_result"
    }
   ],
   "source": [
    "std(LambdaMat, dims=1, corrected=false) / sqrt(T)"
   ]
  },
  {
   "cell_type": "markdown",
   "metadata": {},
   "source": [
    "Shanken SEs (generated regressors correction)"
   ]
  },
  {
   "cell_type": "code",
   "execution_count": 44,
   "metadata": {},
   "outputs": [
    {
     "data": {
      "text/plain": [
       "2-element Array{Float64,1}:\n",
       " 0.017219217568549546\n",
       " 0.050531349687252085"
      ]
     },
     "execution_count": 44,
     "metadata": {},
     "output_type": "execute_result"
    }
   ],
   "source": [
    "Sigma = EHat' * EHat / T\n",
    "SigmaF = (X[:, 2] .- mean(X[:, 2]))' * (X[:, 2] .- mean(X[:, 2])) / T\n",
    "Shanken = 1 .+ Lambda[2:K]' * inv(SigmaF) * Lambda[2:K]\n",
    "\n",
    "vcvShanken = (inv(Xt' * Xt) * Xt' * Sigma * Xt * inv(Xt' * Xt) * Shanken  .+\n",
    "             [0 zeros(K-1); zeros(K-1) SigmaF]) / T\n",
    "\n",
    "sqrt.(diag(vcvShanken))"
   ]
  },
  {
   "cell_type": "markdown",
   "metadata": {},
   "source": [
    "Test of zero pricing errors (GMM Magnus Style)"
   ]
  },
  {
   "cell_type": "code",
   "execution_count": 45,
   "metadata": {},
   "outputs": [
    {
     "data": {
      "text/plain": [
       "(7.402960069215318, 0.5952420099818202)"
      ]
     },
     "execution_count": 45,
     "metadata": {},
     "output_type": "execute_result"
    }
   ],
   "source": [
    "Ythat = Xt * Lambda' ;\n",
    "Z = X\n",
    "SigmaZZ = kron((Z' * Z / T), Diagonal(ones(N)))\n",
    "SigmaZY = vec(Y' * Z / T)\n",
    "B = inv(SigmaZZ) * SigmaZY\n",
    "B = [B; Lambda']\n",
    "F = zeros(T, N*K+N)\n",
    "for j in 1:N\n",
    "    for k in 0:(K-1)\n",
    "        Bk = collect(10:N:size(F, 2))[1:2]\n",
    "        F[:, j+k*N] = (Y[:, j] - Z * B[Bk]) .* Z[:, k+1]\n",
    "    end\n",
    "end\n",
    "F[:, N*K+1:N*K+N] .= Y .- Ythat'\n",
    "\n",
    "# Selection matrix\n",
    "A = [Diagonal(ones(N*K)) zeros(N*K, N);\n",
    "     zeros(K, N*K) [ones(1, N) ; Beta']\n",
    "    ]\n",
    "\n",
    "S = NW(F, 1)\n",
    "\n",
    "D = [kron(Z' * Z / T, Diagonal(ones(N))) zeros(N*K, K) \n",
    "     zeros(N, N*K) -ones(N, 1) -Beta]\n",
    "\n",
    "CovB = inv(A*D) * A * S * A' * inv(A*D)' / T\n",
    "\n",
    "G = mean(F, dims=1)';\n",
    "\n",
    "CovG = (Diagonal(ones(N*(K+1))) - D * inv(A*D) * A) * S * \n",
    "        (Diagonal(ones(N*(K+1))) -  D * inv(A*D) * A)'  / T\n",
    "\n",
    "J = (G' * pinv(CovG) * G)[1]\n",
    "\n",
    "# Test statistic and p-value\n",
    "J, ccdf(Chisq(N-K+1), J)"
   ]
  }
 ],
 "metadata": {
  "kernelspec": {
   "display_name": "Julia 1.0.1",
   "language": "julia",
   "name": "julia-1.0"
  },
  "language_info": {
   "file_extension": ".jl",
   "mimetype": "application/julia",
   "name": "julia",
   "version": "1.0.1"
  }
 },
 "nbformat": 4,
 "nbformat_minor": 2
}
